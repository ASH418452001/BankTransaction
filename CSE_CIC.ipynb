{
  "cells": [
    {
      "cell_type": "markdown",
      "metadata": {
        "id": "view-in-github",
        "colab_type": "text"
      },
      "source": [
        "<a href=\"https://colab.research.google.com/github/ASH418452001/BankTransaction/blob/main/CSE_CIC.ipynb\" target=\"_parent\"><img src=\"https://colab.research.google.com/assets/colab-badge.svg\" alt=\"Open In Colab\"/></a>"
      ]
    },
    {
      "cell_type": "markdown",
      "id": "dad5edc2",
      "metadata": {
        "_cell_guid": "b1076dfc-b9ad-4769-8c92-a6c4dae69d19",
        "_uuid": "8f2839f25d086af736a60e9eeb907d3b93b6e0e5",
        "execution": {
          "iopub.execute_input": "2021-12-28T11:37:59.744925Z",
          "iopub.status.busy": "2021-12-28T11:37:59.744505Z",
          "iopub.status.idle": "2021-12-28T11:37:59.750737Z",
          "shell.execute_reply": "2021-12-28T11:37:59.750011Z",
          "shell.execute_reply.started": "2021-12-28T11:37:59.74486Z"
        },
        "papermill": {
          "duration": 0.040145,
          "end_time": "2022-12-18T10:08:32.573058",
          "exception": false,
          "start_time": "2022-12-18T10:08:32.532913",
          "status": "completed"
        },
        "tags": [],
        "id": "dad5edc2"
      },
      "source": [
        "# Network Intrusion Detection Using Machine Learning/Deep Learning\n",
        "This notebook involves the making of machine learning & deep learning models to classify the given data of obtained as a network intrusion into differen classes (malignant or benign). Given a sample point, the objective of machine learning model will be to classify that whether the intrusion made is  **Benign** or is a **BruteForce** (either FTP or SSH)."
      ]
    },
    {
      "cell_type": "markdown",
      "id": "a8fe52fb",
      "metadata": {
        "papermill": {
          "duration": 0.036912,
          "end_time": "2022-12-18T10:08:32.648935",
          "exception": false,
          "start_time": "2022-12-18T10:08:32.612023",
          "status": "completed"
        },
        "tags": [],
        "id": "a8fe52fb"
      },
      "source": [
        "# Importing Libraries\n",
        "First, we will import libraries that we need to start our workflow. The libraries we are using are:\n",
        "* NumPy\n",
        "* Pandas\n",
        "* Matplotlib\n",
        "* Scikit-learn\n",
        "* Keras\n",
        "* TensorFlow"
      ]
    },
    {
      "cell_type": "code",
      "source": [
        "import os\n",
        "os.environ[\"DATASET_DIRECTORY\"] = \"/content/datasets\"\n",
        "from google.colab import drive\n",
        "drive.mount('/content/drive')"
      ],
      "metadata": {
        "id": "pndur_q1B_ga",
        "colab": {
          "base_uri": "https://localhost:8080/"
        },
        "outputId": "17609a4d-2de3-4d32-f873-3c29a72eee1b"
      },
      "id": "pndur_q1B_ga",
      "execution_count": null,
      "outputs": [
        {
          "output_type": "stream",
          "name": "stdout",
          "text": [
            "Mounted at /content/drive\n"
          ]
        }
      ]
    },
    {
      "cell_type": "code",
      "execution_count": null,
      "id": "a6afcc25",
      "metadata": {
        "execution": {
          "iopub.execute_input": "2022-12-18T10:08:32.731848Z",
          "iopub.status.busy": "2022-12-18T10:08:32.730896Z",
          "iopub.status.idle": "2022-12-18T10:08:41.038675Z",
          "shell.execute_reply": "2022-12-18T10:08:41.037922Z",
          "shell.execute_reply.started": "2022-12-18T09:23:21.629752Z"
        },
        "papermill": {
          "duration": 8.353183,
          "end_time": "2022-12-18T10:08:41.038866",
          "exception": false,
          "start_time": "2022-12-18T10:08:32.685683",
          "status": "completed"
        },
        "tags": [],
        "id": "a6afcc25"
      },
      "outputs": [],
      "source": [
        "# import libraries\n",
        "import numpy as np\n",
        "import pandas as pd\n",
        "import os, re, time, math, tqdm, itertools\n",
        "import matplotlib.pyplot as plt\n",
        "import seaborn as sns\n",
        "import plotly.express as px\n",
        "import plotly.offline as pyo\n",
        "from sklearn.model_selection import train_test_split\n",
        "from sklearn.preprocessing import MinMaxScaler\n",
        "from sklearn.ensemble import RandomForestClassifier\n",
        "from sklearn.preprocessing import LabelEncoder\n",
        "from sklearn.neural_network import MLPClassifier\n",
        "import keras\n",
        "from keras.layers import Conv2D, Conv1D, MaxPooling2D, MaxPooling1D, Flatten, BatchNormalization, Dense\n",
        "from keras.utils.np_utils import to_categorical\n",
        "from keras.models import Sequential\n",
        "from keras.callbacks import CSVLogger, ModelCheckpoint"
      ]
    },
    {
      "cell_type": "code",
      "execution_count": null,
      "id": "e26f5fd1",
      "metadata": {
        "execution": {
          "iopub.execute_input": "2022-12-18T10:08:41.296276Z",
          "iopub.status.busy": "2022-12-18T10:08:41.295547Z",
          "iopub.status.idle": "2022-12-18T10:08:42.388958Z",
          "shell.execute_reply": "2022-12-18T10:08:42.388354Z",
          "shell.execute_reply.started": "2022-12-18T09:23:21.669546Z"
        },
        "papermill": {
          "duration": 1.133936,
          "end_time": "2022-12-18T10:08:42.389129",
          "exception": false,
          "start_time": "2022-12-18T10:08:41.255193",
          "status": "completed"
        },
        "tags": [],
        "id": "e26f5fd1"
      },
      "outputs": [],
      "source": [
        "!nvidia-smi"
      ]
    },
    {
      "cell_type": "markdown",
      "id": "f32a0d97",
      "metadata": {
        "papermill": {
          "duration": 0.037695,
          "end_time": "2022-12-18T10:08:42.465462",
          "exception": false,
          "start_time": "2022-12-18T10:08:42.427767",
          "status": "completed"
        },
        "tags": [],
        "id": "f32a0d97"
      },
      "source": [
        "# Loading the Data\n",
        "First step is to load the available data into our memory."
      ]
    },
    {
      "cell_type": "code",
      "execution_count": null,
      "id": "3f0dffbc",
      "metadata": {
        "execution": {
          "iopub.execute_input": "2022-12-18T10:08:42.549132Z",
          "iopub.status.busy": "2022-12-18T10:08:42.548425Z",
          "iopub.status.idle": "2022-12-18T10:08:55.911092Z",
          "shell.execute_reply": "2022-12-18T10:08:55.911903Z",
          "shell.execute_reply.started": "2022-12-18T09:23:22.804793Z"
        },
        "papermill": {
          "duration": 13.409096,
          "end_time": "2022-12-18T10:08:55.912128",
          "exception": false,
          "start_time": "2022-12-18T10:08:42.503032",
          "status": "completed"
        },
        "tags": [],
        "id": "3f0dffbc",
        "outputId": "2e9d7b30-061b-406e-a172-c188fe227507",
        "colab": {
          "base_uri": "https://localhost:8080/"
        }
      },
      "outputs": [
        {
          "output_type": "stream",
          "name": "stdout",
          "text": [
            "CPU times: user 13.3 s, sys: 1.94 s, total: 15.3 s\n",
            "Wall time: 25.7 s\n"
          ]
        }
      ],
      "source": [
        "%%time\n",
        "# load the data into memory\n",
        "network_data = pd.read_csv('/content/drive/MyDrive/CSE-CIC-IDS2018/02-14-2018.csv')"
      ]
    },
    {
      "cell_type": "markdown",
      "id": "02628c0e",
      "metadata": {
        "papermill": {
          "duration": 0.037697,
          "end_time": "2022-12-18T10:08:55.990099",
          "exception": false,
          "start_time": "2022-12-18T10:08:55.952402",
          "status": "completed"
        },
        "tags": [],
        "id": "02628c0e"
      },
      "source": [
        "# EDA (Exploratory Data Analysis)\n",
        "For making a proper undertanding of dataset we are using, we will perform a bief EDA (Exploratory Data Analysis). The EDA is sub-divided into:\n",
        "* Data Visuals\n",
        "* Data Understanding\n",
        "* Data Analysis"
      ]
    },
    {
      "cell_type": "code",
      "execution_count": null,
      "id": "26048e11",
      "metadata": {
        "execution": {
          "iopub.execute_input": "2022-12-18T10:08:56.074462Z",
          "iopub.status.busy": "2022-12-18T10:08:56.073729Z",
          "iopub.status.idle": "2022-12-18T10:08:56.077884Z",
          "shell.execute_reply": "2022-12-18T10:08:56.077346Z",
          "shell.execute_reply.started": "2022-12-18T09:23:31.388280Z"
        },
        "papermill": {
          "duration": 0.049702,
          "end_time": "2022-12-18T10:08:56.078040",
          "exception": false,
          "start_time": "2022-12-18T10:08:56.028338",
          "status": "completed"
        },
        "tags": [],
        "id": "26048e11",
        "outputId": "3bfc267e-76ee-4432-df53-ff5e1862894b",
        "colab": {
          "base_uri": "https://localhost:8080/"
        }
      },
      "outputs": [
        {
          "output_type": "execute_result",
          "data": {
            "text/plain": [
              "(1048575, 80)"
            ]
          },
          "metadata": {},
          "execution_count": 28
        }
      ],
      "source": [
        "# check the shape of data\n",
        "network_data.shape"
      ]
    },
    {
      "cell_type": "code",
      "execution_count": null,
      "id": "c392fb02",
      "metadata": {
        "execution": {
          "iopub.execute_input": "2022-12-18T10:08:56.158877Z",
          "iopub.status.busy": "2022-12-18T10:08:56.158169Z",
          "iopub.status.idle": "2022-12-18T10:08:56.164509Z",
          "shell.execute_reply": "2022-12-18T10:08:56.165172Z",
          "shell.execute_reply.started": "2022-12-18T09:23:31.396970Z"
        },
        "papermill": {
          "duration": 0.048964,
          "end_time": "2022-12-18T10:08:56.165606",
          "exception": false,
          "start_time": "2022-12-18T10:08:56.116642",
          "status": "completed"
        },
        "tags": [],
        "id": "c392fb02",
        "outputId": "06dea9cb-b64c-44fd-abcb-ff492603bebf",
        "colab": {
          "base_uri": "https://localhost:8080/"
        }
      },
      "outputs": [
        {
          "output_type": "stream",
          "name": "stdout",
          "text": [
            "Number of Rows (Samples): 1048575\n",
            "Number of Columns (Features): 80\n"
          ]
        }
      ],
      "source": [
        "# check the number of rows and columns\n",
        "print('Number of Rows (Samples): %s' % str((network_data.shape[0])))\n",
        "print('Number of Columns (Features): %s' % str((network_data.shape[1])))"
      ]
    },
    {
      "cell_type": "markdown",
      "id": "9aa98ced",
      "metadata": {
        "papermill": {
          "duration": 0.03869,
          "end_time": "2022-12-18T10:08:56.245599",
          "exception": false,
          "start_time": "2022-12-18T10:08:56.206909",
          "status": "completed"
        },
        "tags": [],
        "id": "9aa98ced"
      },
      "source": [
        "We have a total of **1 million+** samples and **80** features in data."
      ]
    },
    {
      "cell_type": "code",
      "execution_count": null,
      "id": "1f0f366e",
      "metadata": {
        "execution": {
          "iopub.execute_input": "2022-12-18T10:08:56.335914Z",
          "iopub.status.busy": "2022-12-18T10:08:56.335189Z",
          "iopub.status.idle": "2022-12-18T10:08:56.357144Z",
          "shell.execute_reply": "2022-12-18T10:08:56.356626Z",
          "shell.execute_reply.started": "2022-12-18T09:23:31.408955Z"
        },
        "papermill": {
          "duration": 0.073373,
          "end_time": "2022-12-18T10:08:56.357323",
          "exception": false,
          "start_time": "2022-12-18T10:08:56.283950",
          "status": "completed"
        },
        "tags": [],
        "id": "1f0f366e",
        "outputId": "953a8edb-99b0-4bde-a768-435f742585da",
        "colab": {
          "base_uri": "https://localhost:8080/",
          "height": 370
        }
      },
      "outputs": [
        {
          "output_type": "execute_result",
          "data": {
            "text/plain": [
              "   Dst Port  Protocol            Timestamp  Flow Duration  Tot Fwd Pkts  \\\n",
              "0         0         0  14/02/2018 08:31:01      112641719             3   \n",
              "1         0         0  14/02/2018 08:33:50      112641466             3   \n",
              "2         0         0  14/02/2018 08:36:39      112638623             3   \n",
              "3        22         6  14/02/2018 08:40:13        6453966            15   \n",
              "\n",
              "   Tot Bwd Pkts  TotLen Fwd Pkts  TotLen Bwd Pkts  Fwd Pkt Len Max  \\\n",
              "0             0                0                0                0   \n",
              "1             0                0                0                0   \n",
              "2             0                0                0                0   \n",
              "3            10             1239             2273              744   \n",
              "\n",
              "   Fwd Pkt Len Min  ...  Fwd Seg Size Min  Active Mean  Active Std  \\\n",
              "0                0  ...                 0          0.0         0.0   \n",
              "1                0  ...                 0          0.0         0.0   \n",
              "2                0  ...                 0          0.0         0.0   \n",
              "3                0  ...                32          0.0         0.0   \n",
              "\n",
              "   Active Max  Active Min   Idle Mean    Idle Std  Idle Max  Idle Min   Label  \n",
              "0           0           0  56320859.5  139.300036  56320958  56320761  Benign  \n",
              "1           0           0  56320733.0  114.551299  56320814  56320652  Benign  \n",
              "2           0           0  56319311.5  301.934596  56319525  56319098  Benign  \n",
              "3           0           0         0.0    0.000000         0         0  Benign  \n",
              "\n",
              "[4 rows x 80 columns]"
            ],
            "text/html": [
              "\n",
              "\n",
              "  <div id=\"df-e6ccdc59-8ed4-4353-8f9d-2799f1f66ef2\">\n",
              "    <div class=\"colab-df-container\">\n",
              "      <div>\n",
              "<style scoped>\n",
              "    .dataframe tbody tr th:only-of-type {\n",
              "        vertical-align: middle;\n",
              "    }\n",
              "\n",
              "    .dataframe tbody tr th {\n",
              "        vertical-align: top;\n",
              "    }\n",
              "\n",
              "    .dataframe thead th {\n",
              "        text-align: right;\n",
              "    }\n",
              "</style>\n",
              "<table border=\"1\" class=\"dataframe\">\n",
              "  <thead>\n",
              "    <tr style=\"text-align: right;\">\n",
              "      <th></th>\n",
              "      <th>Dst Port</th>\n",
              "      <th>Protocol</th>\n",
              "      <th>Timestamp</th>\n",
              "      <th>Flow Duration</th>\n",
              "      <th>Tot Fwd Pkts</th>\n",
              "      <th>Tot Bwd Pkts</th>\n",
              "      <th>TotLen Fwd Pkts</th>\n",
              "      <th>TotLen Bwd Pkts</th>\n",
              "      <th>Fwd Pkt Len Max</th>\n",
              "      <th>Fwd Pkt Len Min</th>\n",
              "      <th>...</th>\n",
              "      <th>Fwd Seg Size Min</th>\n",
              "      <th>Active Mean</th>\n",
              "      <th>Active Std</th>\n",
              "      <th>Active Max</th>\n",
              "      <th>Active Min</th>\n",
              "      <th>Idle Mean</th>\n",
              "      <th>Idle Std</th>\n",
              "      <th>Idle Max</th>\n",
              "      <th>Idle Min</th>\n",
              "      <th>Label</th>\n",
              "    </tr>\n",
              "  </thead>\n",
              "  <tbody>\n",
              "    <tr>\n",
              "      <th>0</th>\n",
              "      <td>0</td>\n",
              "      <td>0</td>\n",
              "      <td>14/02/2018 08:31:01</td>\n",
              "      <td>112641719</td>\n",
              "      <td>3</td>\n",
              "      <td>0</td>\n",
              "      <td>0</td>\n",
              "      <td>0</td>\n",
              "      <td>0</td>\n",
              "      <td>0</td>\n",
              "      <td>...</td>\n",
              "      <td>0</td>\n",
              "      <td>0.0</td>\n",
              "      <td>0.0</td>\n",
              "      <td>0</td>\n",
              "      <td>0</td>\n",
              "      <td>56320859.5</td>\n",
              "      <td>139.300036</td>\n",
              "      <td>56320958</td>\n",
              "      <td>56320761</td>\n",
              "      <td>Benign</td>\n",
              "    </tr>\n",
              "    <tr>\n",
              "      <th>1</th>\n",
              "      <td>0</td>\n",
              "      <td>0</td>\n",
              "      <td>14/02/2018 08:33:50</td>\n",
              "      <td>112641466</td>\n",
              "      <td>3</td>\n",
              "      <td>0</td>\n",
              "      <td>0</td>\n",
              "      <td>0</td>\n",
              "      <td>0</td>\n",
              "      <td>0</td>\n",
              "      <td>...</td>\n",
              "      <td>0</td>\n",
              "      <td>0.0</td>\n",
              "      <td>0.0</td>\n",
              "      <td>0</td>\n",
              "      <td>0</td>\n",
              "      <td>56320733.0</td>\n",
              "      <td>114.551299</td>\n",
              "      <td>56320814</td>\n",
              "      <td>56320652</td>\n",
              "      <td>Benign</td>\n",
              "    </tr>\n",
              "    <tr>\n",
              "      <th>2</th>\n",
              "      <td>0</td>\n",
              "      <td>0</td>\n",
              "      <td>14/02/2018 08:36:39</td>\n",
              "      <td>112638623</td>\n",
              "      <td>3</td>\n",
              "      <td>0</td>\n",
              "      <td>0</td>\n",
              "      <td>0</td>\n",
              "      <td>0</td>\n",
              "      <td>0</td>\n",
              "      <td>...</td>\n",
              "      <td>0</td>\n",
              "      <td>0.0</td>\n",
              "      <td>0.0</td>\n",
              "      <td>0</td>\n",
              "      <td>0</td>\n",
              "      <td>56319311.5</td>\n",
              "      <td>301.934596</td>\n",
              "      <td>56319525</td>\n",
              "      <td>56319098</td>\n",
              "      <td>Benign</td>\n",
              "    </tr>\n",
              "    <tr>\n",
              "      <th>3</th>\n",
              "      <td>22</td>\n",
              "      <td>6</td>\n",
              "      <td>14/02/2018 08:40:13</td>\n",
              "      <td>6453966</td>\n",
              "      <td>15</td>\n",
              "      <td>10</td>\n",
              "      <td>1239</td>\n",
              "      <td>2273</td>\n",
              "      <td>744</td>\n",
              "      <td>0</td>\n",
              "      <td>...</td>\n",
              "      <td>32</td>\n",
              "      <td>0.0</td>\n",
              "      <td>0.0</td>\n",
              "      <td>0</td>\n",
              "      <td>0</td>\n",
              "      <td>0.0</td>\n",
              "      <td>0.000000</td>\n",
              "      <td>0</td>\n",
              "      <td>0</td>\n",
              "      <td>Benign</td>\n",
              "    </tr>\n",
              "  </tbody>\n",
              "</table>\n",
              "<p>4 rows × 80 columns</p>\n",
              "</div>\n",
              "      <button class=\"colab-df-convert\" onclick=\"convertToInteractive('df-e6ccdc59-8ed4-4353-8f9d-2799f1f66ef2')\"\n",
              "              title=\"Convert this dataframe to an interactive table.\"\n",
              "              style=\"display:none;\">\n",
              "\n",
              "  <svg xmlns=\"http://www.w3.org/2000/svg\" height=\"24px\"viewBox=\"0 0 24 24\"\n",
              "       width=\"24px\">\n",
              "    <path d=\"M0 0h24v24H0V0z\" fill=\"none\"/>\n",
              "    <path d=\"M18.56 5.44l.94 2.06.94-2.06 2.06-.94-2.06-.94-.94-2.06-.94 2.06-2.06.94zm-11 1L8.5 8.5l.94-2.06 2.06-.94-2.06-.94L8.5 2.5l-.94 2.06-2.06.94zm10 10l.94 2.06.94-2.06 2.06-.94-2.06-.94-.94-2.06-.94 2.06-2.06.94z\"/><path d=\"M17.41 7.96l-1.37-1.37c-.4-.4-.92-.59-1.43-.59-.52 0-1.04.2-1.43.59L10.3 9.45l-7.72 7.72c-.78.78-.78 2.05 0 2.83L4 21.41c.39.39.9.59 1.41.59.51 0 1.02-.2 1.41-.59l7.78-7.78 2.81-2.81c.8-.78.8-2.07 0-2.86zM5.41 20L4 18.59l7.72-7.72 1.47 1.35L5.41 20z\"/>\n",
              "  </svg>\n",
              "      </button>\n",
              "\n",
              "\n",
              "\n",
              "    <div id=\"df-f7b36026-7b76-44e5-a831-80c8eb3a266e\">\n",
              "      <button class=\"colab-df-quickchart\" onclick=\"quickchart('df-f7b36026-7b76-44e5-a831-80c8eb3a266e')\"\n",
              "              title=\"Suggest charts.\"\n",
              "              style=\"display:none;\">\n",
              "\n",
              "<svg xmlns=\"http://www.w3.org/2000/svg\" height=\"24px\"viewBox=\"0 0 24 24\"\n",
              "     width=\"24px\">\n",
              "    <g>\n",
              "        <path d=\"M19 3H5c-1.1 0-2 .9-2 2v14c0 1.1.9 2 2 2h14c1.1 0 2-.9 2-2V5c0-1.1-.9-2-2-2zM9 17H7v-7h2v7zm4 0h-2V7h2v10zm4 0h-2v-4h2v4z\"/>\n",
              "    </g>\n",
              "</svg>\n",
              "      </button>\n",
              "    </div>\n",
              "\n",
              "<style>\n",
              "  .colab-df-quickchart {\n",
              "    background-color: #E8F0FE;\n",
              "    border: none;\n",
              "    border-radius: 50%;\n",
              "    cursor: pointer;\n",
              "    display: none;\n",
              "    fill: #1967D2;\n",
              "    height: 32px;\n",
              "    padding: 0 0 0 0;\n",
              "    width: 32px;\n",
              "  }\n",
              "\n",
              "  .colab-df-quickchart:hover {\n",
              "    background-color: #E2EBFA;\n",
              "    box-shadow: 0px 1px 2px rgba(60, 64, 67, 0.3), 0px 1px 3px 1px rgba(60, 64, 67, 0.15);\n",
              "    fill: #174EA6;\n",
              "  }\n",
              "\n",
              "  [theme=dark] .colab-df-quickchart {\n",
              "    background-color: #3B4455;\n",
              "    fill: #D2E3FC;\n",
              "  }\n",
              "\n",
              "  [theme=dark] .colab-df-quickchart:hover {\n",
              "    background-color: #434B5C;\n",
              "    box-shadow: 0px 1px 3px 1px rgba(0, 0, 0, 0.15);\n",
              "    filter: drop-shadow(0px 1px 2px rgba(0, 0, 0, 0.3));\n",
              "    fill: #FFFFFF;\n",
              "  }\n",
              "</style>\n",
              "\n",
              "    <script>\n",
              "      async function quickchart(key) {\n",
              "        const containerElement = document.querySelector('#' + key);\n",
              "        const charts = await google.colab.kernel.invokeFunction(\n",
              "            'suggestCharts', [key], {});\n",
              "      }\n",
              "    </script>\n",
              "\n",
              "\n",
              "      <script>\n",
              "\n",
              "function displayQuickchartButton(domScope) {\n",
              "  let quickchartButtonEl =\n",
              "    domScope.querySelector('#df-f7b36026-7b76-44e5-a831-80c8eb3a266e button.colab-df-quickchart');\n",
              "  quickchartButtonEl.style.display =\n",
              "    google.colab.kernel.accessAllowed ? 'block' : 'none';\n",
              "}\n",
              "\n",
              "        displayQuickchartButton(document);\n",
              "      </script>\n",
              "      <style>\n",
              "    .colab-df-container {\n",
              "      display:flex;\n",
              "      flex-wrap:wrap;\n",
              "      gap: 12px;\n",
              "    }\n",
              "\n",
              "    .colab-df-convert {\n",
              "      background-color: #E8F0FE;\n",
              "      border: none;\n",
              "      border-radius: 50%;\n",
              "      cursor: pointer;\n",
              "      display: none;\n",
              "      fill: #1967D2;\n",
              "      height: 32px;\n",
              "      padding: 0 0 0 0;\n",
              "      width: 32px;\n",
              "    }\n",
              "\n",
              "    .colab-df-convert:hover {\n",
              "      background-color: #E2EBFA;\n",
              "      box-shadow: 0px 1px 2px rgba(60, 64, 67, 0.3), 0px 1px 3px 1px rgba(60, 64, 67, 0.15);\n",
              "      fill: #174EA6;\n",
              "    }\n",
              "\n",
              "    [theme=dark] .colab-df-convert {\n",
              "      background-color: #3B4455;\n",
              "      fill: #D2E3FC;\n",
              "    }\n",
              "\n",
              "    [theme=dark] .colab-df-convert:hover {\n",
              "      background-color: #434B5C;\n",
              "      box-shadow: 0px 1px 3px 1px rgba(0, 0, 0, 0.15);\n",
              "      filter: drop-shadow(0px 1px 2px rgba(0, 0, 0, 0.3));\n",
              "      fill: #FFFFFF;\n",
              "    }\n",
              "  </style>\n",
              "\n",
              "      <script>\n",
              "        const buttonEl =\n",
              "          document.querySelector('#df-e6ccdc59-8ed4-4353-8f9d-2799f1f66ef2 button.colab-df-convert');\n",
              "        buttonEl.style.display =\n",
              "          google.colab.kernel.accessAllowed ? 'block' : 'none';\n",
              "\n",
              "        async function convertToInteractive(key) {\n",
              "          const element = document.querySelector('#df-e6ccdc59-8ed4-4353-8f9d-2799f1f66ef2');\n",
              "          const dataTable =\n",
              "            await google.colab.kernel.invokeFunction('convertToInteractive',\n",
              "                                                     [key], {});\n",
              "          if (!dataTable) return;\n",
              "\n",
              "          const docLinkHtml = 'Like what you see? Visit the ' +\n",
              "            '<a target=\"_blank\" href=https://colab.research.google.com/notebooks/data_table.ipynb>data table notebook</a>'\n",
              "            + ' to learn more about interactive tables.';\n",
              "          element.innerHTML = '';\n",
              "          dataTable['output_type'] = 'display_data';\n",
              "          await google.colab.output.renderOutput(dataTable, element);\n",
              "          const docLink = document.createElement('div');\n",
              "          docLink.innerHTML = docLinkHtml;\n",
              "          element.appendChild(docLink);\n",
              "        }\n",
              "      </script>\n",
              "    </div>\n",
              "  </div>\n"
            ]
          },
          "metadata": {},
          "execution_count": 30
        }
      ],
      "source": [
        "network_data.head(4)"
      ]
    },
    {
      "cell_type": "code",
      "execution_count": null,
      "id": "0482e5d0",
      "metadata": {
        "execution": {
          "iopub.execute_input": "2022-12-18T10:08:56.443357Z",
          "iopub.status.busy": "2022-12-18T10:08:56.442458Z",
          "iopub.status.idle": "2022-12-18T10:08:56.446542Z",
          "shell.execute_reply": "2022-12-18T10:08:56.446008Z",
          "shell.execute_reply.started": "2022-12-18T09:23:31.442107Z"
        },
        "papermill": {
          "duration": 0.049651,
          "end_time": "2022-12-18T10:08:56.446688",
          "exception": false,
          "start_time": "2022-12-18T10:08:56.397037",
          "status": "completed"
        },
        "tags": [],
        "id": "0482e5d0",
        "outputId": "bc4b1ab4-b9e4-4b43-f3f1-984d3357756c",
        "colab": {
          "base_uri": "https://localhost:8080/"
        }
      },
      "outputs": [
        {
          "output_type": "execute_result",
          "data": {
            "text/plain": [
              "Index(['Dst Port', 'Protocol', 'Timestamp', 'Flow Duration', 'Tot Fwd Pkts',\n",
              "       'Tot Bwd Pkts', 'TotLen Fwd Pkts', 'TotLen Bwd Pkts', 'Fwd Pkt Len Max',\n",
              "       'Fwd Pkt Len Min', 'Fwd Pkt Len Mean', 'Fwd Pkt Len Std',\n",
              "       'Bwd Pkt Len Max', 'Bwd Pkt Len Min', 'Bwd Pkt Len Mean',\n",
              "       'Bwd Pkt Len Std', 'Flow Byts/s', 'Flow Pkts/s', 'Flow IAT Mean',\n",
              "       'Flow IAT Std', 'Flow IAT Max', 'Flow IAT Min', 'Fwd IAT Tot',\n",
              "       'Fwd IAT Mean', 'Fwd IAT Std', 'Fwd IAT Max', 'Fwd IAT Min',\n",
              "       'Bwd IAT Tot', 'Bwd IAT Mean', 'Bwd IAT Std', 'Bwd IAT Max',\n",
              "       'Bwd IAT Min', 'Fwd PSH Flags', 'Bwd PSH Flags', 'Fwd URG Flags',\n",
              "       'Bwd URG Flags', 'Fwd Header Len', 'Bwd Header Len', 'Fwd Pkts/s',\n",
              "       'Bwd Pkts/s', 'Pkt Len Min', 'Pkt Len Max', 'Pkt Len Mean',\n",
              "       'Pkt Len Std', 'Pkt Len Var', 'FIN Flag Cnt', 'SYN Flag Cnt',\n",
              "       'RST Flag Cnt', 'PSH Flag Cnt', 'ACK Flag Cnt', 'URG Flag Cnt',\n",
              "       'CWE Flag Count', 'ECE Flag Cnt', 'Down/Up Ratio', 'Pkt Size Avg',\n",
              "       'Fwd Seg Size Avg', 'Bwd Seg Size Avg', 'Fwd Byts/b Avg',\n",
              "       'Fwd Pkts/b Avg', 'Fwd Blk Rate Avg', 'Bwd Byts/b Avg',\n",
              "       'Bwd Pkts/b Avg', 'Bwd Blk Rate Avg', 'Subflow Fwd Pkts',\n",
              "       'Subflow Fwd Byts', 'Subflow Bwd Pkts', 'Subflow Bwd Byts',\n",
              "       'Init Fwd Win Byts', 'Init Bwd Win Byts', 'Fwd Act Data Pkts',\n",
              "       'Fwd Seg Size Min', 'Active Mean', 'Active Std', 'Active Max',\n",
              "       'Active Min', 'Idle Mean', 'Idle Std', 'Idle Max', 'Idle Min', 'Label'],\n",
              "      dtype='object')"
            ]
          },
          "metadata": {},
          "execution_count": 31
        }
      ],
      "source": [
        "# check the columns in data\n",
        "network_data.columns"
      ]
    },
    {
      "cell_type": "code",
      "execution_count": null,
      "id": "a422cbfa",
      "metadata": {
        "execution": {
          "iopub.execute_input": "2022-12-18T10:08:56.531560Z",
          "iopub.status.busy": "2022-12-18T10:08:56.529876Z",
          "iopub.status.idle": "2022-12-18T10:08:56.534831Z",
          "shell.execute_reply": "2022-12-18T10:08:56.535564Z",
          "shell.execute_reply.started": "2022-12-18T09:23:31.455827Z"
        },
        "papermill": {
          "duration": 0.048737,
          "end_time": "2022-12-18T10:08:56.535811",
          "exception": false,
          "start_time": "2022-12-18T10:08:56.487074",
          "status": "completed"
        },
        "tags": [],
        "id": "a422cbfa",
        "outputId": "f389e695-91a3-4f05-ae07-8150505602b7",
        "colab": {
          "base_uri": "https://localhost:8080/"
        }
      },
      "outputs": [
        {
          "output_type": "stream",
          "name": "stdout",
          "text": [
            "Total columns in our data: 80\n"
          ]
        }
      ],
      "source": [
        "# check the number of columns\n",
        "print('Total columns in our data: %s' % str(len(network_data.columns)))"
      ]
    },
    {
      "cell_type": "markdown",
      "id": "86287cc4",
      "metadata": {
        "papermill": {
          "duration": 0.039831,
          "end_time": "2022-12-18T10:08:56.616485",
          "exception": false,
          "start_time": "2022-12-18T10:08:56.576654",
          "status": "completed"
        },
        "tags": [],
        "id": "86287cc4"
      },
      "source": [
        "The dataset is huge. We have a total of **80** columns in our data."
      ]
    },
    {
      "cell_type": "code",
      "execution_count": null,
      "id": "c1f79eab",
      "metadata": {
        "execution": {
          "iopub.execute_input": "2022-12-18T10:08:56.703429Z",
          "iopub.status.busy": "2022-12-18T10:08:56.702728Z",
          "iopub.status.idle": "2022-12-18T10:08:56.951333Z",
          "shell.execute_reply": "2022-12-18T10:08:56.951953Z",
          "shell.execute_reply.started": "2022-12-18T09:23:31.468415Z"
        },
        "papermill": {
          "duration": 0.295842,
          "end_time": "2022-12-18T10:08:56.952138",
          "exception": false,
          "start_time": "2022-12-18T10:08:56.656296",
          "status": "completed"
        },
        "tags": [],
        "id": "c1f79eab",
        "outputId": "55ea2eae-04b4-4e1e-be10-f757984b2de3",
        "colab": {
          "base_uri": "https://localhost:8080/"
        }
      },
      "outputs": [
        {
          "output_type": "stream",
          "name": "stdout",
          "text": [
            "<class 'pandas.core.frame.DataFrame'>\n",
            "RangeIndex: 1048575 entries, 0 to 1048574\n",
            "Data columns (total 80 columns):\n",
            " #   Column             Non-Null Count    Dtype  \n",
            "---  ------             --------------    -----  \n",
            " 0   Dst Port           1048575 non-null  int64  \n",
            " 1   Protocol           1048575 non-null  int64  \n",
            " 2   Timestamp          1048575 non-null  object \n",
            " 3   Flow Duration      1048575 non-null  int64  \n",
            " 4   Tot Fwd Pkts       1048575 non-null  int64  \n",
            " 5   Tot Bwd Pkts       1048575 non-null  int64  \n",
            " 6   TotLen Fwd Pkts    1048575 non-null  int64  \n",
            " 7   TotLen Bwd Pkts    1048575 non-null  int64  \n",
            " 8   Fwd Pkt Len Max    1048575 non-null  int64  \n",
            " 9   Fwd Pkt Len Min    1048575 non-null  int64  \n",
            " 10  Fwd Pkt Len Mean   1048575 non-null  float64\n",
            " 11  Fwd Pkt Len Std    1048575 non-null  float64\n",
            " 12  Bwd Pkt Len Max    1048575 non-null  int64  \n",
            " 13  Bwd Pkt Len Min    1048575 non-null  int64  \n",
            " 14  Bwd Pkt Len Mean   1048575 non-null  float64\n",
            " 15  Bwd Pkt Len Std    1048575 non-null  float64\n",
            " 16  Flow Byts/s        1046298 non-null  float64\n",
            " 17  Flow Pkts/s        1048575 non-null  float64\n",
            " 18  Flow IAT Mean      1048575 non-null  float64\n",
            " 19  Flow IAT Std       1048575 non-null  float64\n",
            " 20  Flow IAT Max       1048575 non-null  int64  \n",
            " 21  Flow IAT Min       1048575 non-null  int64  \n",
            " 22  Fwd IAT Tot        1048575 non-null  int64  \n",
            " 23  Fwd IAT Mean       1048575 non-null  float64\n",
            " 24  Fwd IAT Std        1048575 non-null  float64\n",
            " 25  Fwd IAT Max        1048575 non-null  int64  \n",
            " 26  Fwd IAT Min        1048575 non-null  int64  \n",
            " 27  Bwd IAT Tot        1048575 non-null  int64  \n",
            " 28  Bwd IAT Mean       1048575 non-null  float64\n",
            " 29  Bwd IAT Std        1048575 non-null  float64\n",
            " 30  Bwd IAT Max        1048575 non-null  int64  \n",
            " 31  Bwd IAT Min        1048575 non-null  int64  \n",
            " 32  Fwd PSH Flags      1048575 non-null  int64  \n",
            " 33  Bwd PSH Flags      1048575 non-null  int64  \n",
            " 34  Fwd URG Flags      1048575 non-null  int64  \n",
            " 35  Bwd URG Flags      1048575 non-null  int64  \n",
            " 36  Fwd Header Len     1048575 non-null  int64  \n",
            " 37  Bwd Header Len     1048575 non-null  int64  \n",
            " 38  Fwd Pkts/s         1048575 non-null  float64\n",
            " 39  Bwd Pkts/s         1048575 non-null  float64\n",
            " 40  Pkt Len Min        1048575 non-null  int64  \n",
            " 41  Pkt Len Max        1048575 non-null  int64  \n",
            " 42  Pkt Len Mean       1048575 non-null  float64\n",
            " 43  Pkt Len Std        1048575 non-null  float64\n",
            " 44  Pkt Len Var        1048575 non-null  float64\n",
            " 45  FIN Flag Cnt       1048575 non-null  int64  \n",
            " 46  SYN Flag Cnt       1048575 non-null  int64  \n",
            " 47  RST Flag Cnt       1048575 non-null  int64  \n",
            " 48  PSH Flag Cnt       1048575 non-null  int64  \n",
            " 49  ACK Flag Cnt       1048575 non-null  int64  \n",
            " 50  URG Flag Cnt       1048575 non-null  int64  \n",
            " 51  CWE Flag Count     1048575 non-null  int64  \n",
            " 52  ECE Flag Cnt       1048575 non-null  int64  \n",
            " 53  Down/Up Ratio      1048575 non-null  int64  \n",
            " 54  Pkt Size Avg       1048575 non-null  float64\n",
            " 55  Fwd Seg Size Avg   1048575 non-null  float64\n",
            " 56  Bwd Seg Size Avg   1048575 non-null  float64\n",
            " 57  Fwd Byts/b Avg     1048575 non-null  int64  \n",
            " 58  Fwd Pkts/b Avg     1048575 non-null  int64  \n",
            " 59  Fwd Blk Rate Avg   1048575 non-null  int64  \n",
            " 60  Bwd Byts/b Avg     1048575 non-null  int64  \n",
            " 61  Bwd Pkts/b Avg     1048575 non-null  int64  \n",
            " 62  Bwd Blk Rate Avg   1048575 non-null  int64  \n",
            " 63  Subflow Fwd Pkts   1048575 non-null  int64  \n",
            " 64  Subflow Fwd Byts   1048575 non-null  int64  \n",
            " 65  Subflow Bwd Pkts   1048575 non-null  int64  \n",
            " 66  Subflow Bwd Byts   1048575 non-null  int64  \n",
            " 67  Init Fwd Win Byts  1048575 non-null  int64  \n",
            " 68  Init Bwd Win Byts  1048575 non-null  int64  \n",
            " 69  Fwd Act Data Pkts  1048575 non-null  int64  \n",
            " 70  Fwd Seg Size Min   1048575 non-null  int64  \n",
            " 71  Active Mean        1048575 non-null  float64\n",
            " 72  Active Std         1048575 non-null  float64\n",
            " 73  Active Max         1048575 non-null  int64  \n",
            " 74  Active Min         1048575 non-null  int64  \n",
            " 75  Idle Mean          1048575 non-null  float64\n",
            " 76  Idle Std           1048575 non-null  float64\n",
            " 77  Idle Max           1048575 non-null  int64  \n",
            " 78  Idle Min           1048575 non-null  int64  \n",
            " 79  Label              1048575 non-null  object \n",
            "dtypes: float64(24), int64(54), object(2)\n",
            "memory usage: 640.0+ MB\n"
          ]
        }
      ],
      "source": [
        "network_data.info()"
      ]
    },
    {
      "cell_type": "markdown",
      "id": "ad5c4bb8",
      "metadata": {
        "papermill": {
          "duration": 0.04069,
          "end_time": "2022-12-18T10:08:57.033570",
          "exception": false,
          "start_time": "2022-12-18T10:08:56.992880",
          "status": "completed"
        },
        "tags": [],
        "id": "ad5c4bb8"
      },
      "source": [
        "The following information tells us that:\n",
        "* We have a huge amount of data, containing **1 million+** entries (samples)\n",
        "* There are a total of **80** columns belinging to each sample\n",
        "* There are missing values in our data, which need to be filled or dropped for proper modelling\n",
        "* The memory consumption of data is **700 MB**"
      ]
    },
    {
      "cell_type": "code",
      "execution_count": null,
      "id": "8130d15d",
      "metadata": {
        "execution": {
          "iopub.execute_input": "2022-12-18T10:08:57.187392Z",
          "iopub.status.busy": "2022-12-18T10:08:57.186572Z",
          "iopub.status.idle": "2022-12-18T10:08:57.189920Z",
          "shell.execute_reply": "2022-12-18T10:08:57.190438Z",
          "shell.execute_reply.started": "2022-12-18T09:23:31.722664Z"
        },
        "papermill": {
          "duration": 0.115854,
          "end_time": "2022-12-18T10:08:57.190623",
          "exception": false,
          "start_time": "2022-12-18T10:08:57.074769",
          "status": "completed"
        },
        "tags": [],
        "id": "8130d15d",
        "outputId": "414def77-3967-4468-f3c3-6641f9604ae8",
        "colab": {
          "base_uri": "https://localhost:8080/"
        }
      },
      "outputs": [
        {
          "output_type": "execute_result",
          "data": {
            "text/plain": [
              "Benign            667626\n",
              "FTP-BruteForce    193360\n",
              "SSH-Bruteforce    187589\n",
              "Name: Label, dtype: int64"
            ]
          },
          "metadata": {},
          "execution_count": 34
        }
      ],
      "source": [
        "# check the number of values for labels\n",
        "network_data['Label'].value_counts()"
      ]
    },
    {
      "cell_type": "markdown",
      "id": "ddd7624f",
      "metadata": {
        "papermill": {
          "duration": 0.040367,
          "end_time": "2022-12-18T10:08:57.271786",
          "exception": false,
          "start_time": "2022-12-18T10:08:57.231419",
          "status": "completed"
        },
        "tags": [],
        "id": "ddd7624f"
      },
      "source": [
        "Most of the network intrusions in our data are benign, as output from above code cell."
      ]
    },
    {
      "cell_type": "markdown",
      "id": "e3bdc210",
      "metadata": {
        "papermill": {
          "duration": 0.040409,
          "end_time": "2022-12-18T10:08:57.353054",
          "exception": false,
          "start_time": "2022-12-18T10:08:57.312645",
          "status": "completed"
        },
        "tags": [],
        "id": "e3bdc210"
      },
      "source": [
        "## Data Visualizations\n",
        "After getting some useful information about our data, we now make visuals of our data to see how the trend in our data goes like. The visuals include bar plots, distribution plots, scatter plots, etc."
      ]
    },
    {
      "cell_type": "code",
      "execution_count": null,
      "id": "8782afd4",
      "metadata": {
        "execution": {
          "iopub.execute_input": "2022-12-18T10:08:57.438845Z",
          "iopub.status.busy": "2022-12-18T10:08:57.437802Z",
          "iopub.status.idle": "2022-12-18T10:08:58.322659Z",
          "shell.execute_reply": "2022-12-18T10:08:58.323184Z",
          "shell.execute_reply.started": "2022-12-18T09:23:31.797257Z"
        },
        "papermill": {
          "duration": 0.92942,
          "end_time": "2022-12-18T10:08:58.323379",
          "exception": false,
          "start_time": "2022-12-18T10:08:57.393959",
          "status": "completed"
        },
        "tags": [],
        "id": "8782afd4",
        "outputId": "dd0eff66-c094-48a7-b738-f53644261dc9",
        "colab": {
          "base_uri": "https://localhost:8080/",
          "height": 556
        }
      },
      "outputs": [
        {
          "output_type": "display_data",
          "data": {
            "text/plain": [
              "<Figure size 1200x600 with 1 Axes>"
            ],
            "image/png": "[encoded data removed]"
          },
          "metadata": {}
        }
      ],
      "source": [
        "# make a plot number of labels\n",
        "sns.set(rc={'figure.figsize':(12, 6)})\n",
        "plt.xlabel('Attack Type')\n",
        "sns.set_theme()\n",
        "ax = sns.countplot(x='Label', data=network_data)\n",
        "ax.set(xlabel='Attack Type', ylabel='Number of Attacks')\n",
        "plt.show()"
      ]
    },
    {
      "cell_type": "code",
      "execution_count": null,
      "id": "ab2c3de2",
      "metadata": {
        "execution": {
          "iopub.execute_input": "2022-12-18T10:08:58.412725Z",
          "iopub.status.busy": "2022-12-18T10:08:58.411770Z",
          "iopub.status.idle": "2022-12-18T10:09:00.242146Z",
          "shell.execute_reply": "2022-12-18T10:09:00.242840Z",
          "shell.execute_reply.started": "2022-12-18T09:23:32.669117Z"
        },
        "papermill": {
          "duration": 1.878003,
          "end_time": "2022-12-18T10:09:00.243038",
          "exception": false,
          "start_time": "2022-12-18T10:08:58.365035",
          "status": "completed"
        },
        "tags": [],
        "id": "ab2c3de2",
        "outputId": "4e531a53-4e10-4c2b-c135-db83f5feea1d",
        "colab": {
          "base_uri": "https://localhost:8080/",
          "height": 602
        }
      },
      "outputs": [
        {
          "output_type": "stream",
          "name": "stdout",
          "text": [
            "CPU times: user 1.45 s, sys: 55.1 ms, total: 1.5 s\n",
            "Wall time: 1.48 s\n"
          ]
        },
        {
          "output_type": "execute_result",
          "data": {
            "text/plain": [
              "<Axes: xlabel='Bwd Pkts/s', ylabel='Fwd Seg Size Min'>"
            ]
          },
          "metadata": {},
          "execution_count": 36
        },
        {
          "output_type": "display_data",
          "data": {
            "text/plain": [
              "<Figure size 1200x600 with 1 Axes>"
            ],
            "image/png": "[encoded data removed]"
          },
          "metadata": {}
        }
      ],
      "source": [
        "%%time\n",
        "sns.set(rc={'figure.figsize':(12, 6)})\n",
        "sns.scatterplot(x=network_data['Bwd Pkts/s'][:50000], y=network_data['Fwd Seg Size Min'][:50000],\n",
        "                hue='Label', data=network_data)"
      ]
    },
    {
      "cell_type": "markdown",
      "id": "932f8513",
      "metadata": {
        "papermill": {
          "duration": 0.580021,
          "end_time": "2022-12-18T10:09:06.328155",
          "exception": false,
          "start_time": "2022-12-18T10:09:05.748134",
          "status": "completed"
        },
        "tags": [],
        "id": "932f8513"
      },
      "source": [
        "From the graphs, we came to know that:\n",
        "* Most of the attacks made by intruders are malignant (almost 700k)\n",
        "* **FTP-BruteFore** and **SSH-BruteForce** type attacks are less in numbers (less than 200k)\n",
        "* Most of the intruders try to make a malignant attack on network systems"
      ]
    },
    {
      "cell_type": "code",
      "execution_count": null,
      "id": "0e6af728",
      "metadata": {
        "execution": {
          "iopub.execute_input": "2022-12-18T10:09:07.499931Z",
          "iopub.status.busy": "2022-12-18T10:09:07.499220Z",
          "iopub.status.idle": "2022-12-18T10:09:07.501915Z",
          "shell.execute_reply": "2022-12-18T10:09:07.502513Z",
          "shell.execute_reply.started": "2022-12-18T09:23:37.342777Z"
        },
        "papermill": {
          "duration": 0.591087,
          "end_time": "2022-12-18T10:09:07.502727",
          "exception": false,
          "start_time": "2022-12-18T10:09:06.911640",
          "status": "completed"
        },
        "tags": [],
        "id": "0e6af728",
        "outputId": "7d377e8c-477d-4a56-963f-072bde8e1859",
        "colab": {
          "base_uri": "https://localhost:8080/"
        }
      },
      "outputs": [
        {
          "output_type": "execute_result",
          "data": {
            "text/plain": [
              "dtype('O')"
            ]
          },
          "metadata": {},
          "execution_count": 40
        }
      ],
      "source": [
        "# check the dtype of timestamp column\n",
        "(network_data['Timestamp'].dtype)"
      ]
    },
    {
      "cell_type": "markdown",
      "id": "8ebd2b84",
      "metadata": {
        "papermill": {
          "duration": 0.583328,
          "end_time": "2022-12-18T10:09:08.673034",
          "exception": false,
          "start_time": "2022-12-18T10:09:08.089706",
          "status": "completed"
        },
        "tags": [],
        "id": "8ebd2b84"
      },
      "source": [
        "# Data Preprocessing\n",
        "Data preprocessing plays an important part in the process of data science, since data may not be fully clean and can contain missing or null values. In this step, we are undergoing some preprocessing steps that will help us if there is any null or missing value in our data."
      ]
    },
    {
      "cell_type": "code",
      "execution_count": null,
      "id": "725c5e22",
      "metadata": {
        "execution": {
          "iopub.execute_input": "2022-12-18T10:09:09.844685Z",
          "iopub.status.busy": "2022-12-18T10:09:09.843931Z",
          "iopub.status.idle": "2022-12-18T10:09:10.061661Z",
          "shell.execute_reply": "2022-12-18T10:09:10.062181Z",
          "shell.execute_reply.started": "2022-12-18T09:23:37.352580Z"
        },
        "papermill": {
          "duration": 0.805304,
          "end_time": "2022-12-18T10:09:10.062383",
          "exception": false,
          "start_time": "2022-12-18T10:09:09.257079",
          "status": "completed"
        },
        "tags": [],
        "id": "725c5e22",
        "outputId": "71619a14-b80c-4c27-a8da-15cbeb7c084d",
        "colab": {
          "base_uri": "https://localhost:8080/"
        }
      },
      "outputs": [
        {
          "output_type": "execute_result",
          "data": {
            "text/plain": [
              "array([   0,    0,    0,    0,    0,    0,    0,    0,    0,    0,    0,\n",
              "          0,    0,    0,    0,    0, 2277,    0,    0,    0,    0,    0,\n",
              "          0,    0,    0,    0,    0,    0,    0,    0,    0,    0,    0,\n",
              "          0,    0,    0,    0,    0,    0,    0,    0,    0,    0,    0,\n",
              "          0,    0,    0,    0,    0,    0,    0,    0,    0,    0,    0,\n",
              "          0,    0,    0,    0,    0,    0,    0,    0,    0,    0,    0,\n",
              "          0,    0,    0,    0,    0,    0,    0,    0,    0,    0,    0,\n",
              "          0,    0,    0])"
            ]
          },
          "metadata": {},
          "execution_count": 41
        }
      ],
      "source": [
        "# check for some null or missing values in our dataset\n",
        "network_data.isna().sum().to_numpy()"
      ]
    },
    {
      "cell_type": "markdown",
      "id": "ad305723",
      "metadata": {
        "papermill": {
          "duration": 0.590793,
          "end_time": "2022-12-18T10:09:11.239715",
          "exception": false,
          "start_time": "2022-12-18T10:09:10.648922",
          "status": "completed"
        },
        "tags": [],
        "id": "ad305723"
      },
      "source": [
        "All features in the data have no null or missing values, except one feature that contains **2277** missing values. We need to remove this column from our data, so that our data may get cleaned."
      ]
    },
    {
      "cell_type": "code",
      "execution_count": null,
      "id": "3061675a",
      "metadata": {
        "execution": {
          "iopub.execute_input": "2022-12-18T10:09:12.440014Z",
          "iopub.status.busy": "2022-12-18T10:09:12.439003Z",
          "iopub.status.idle": "2022-12-18T10:09:13.319532Z",
          "shell.execute_reply": "2022-12-18T10:09:13.320020Z",
          "shell.execute_reply.started": "2022-12-18T09:23:37.579990Z"
        },
        "papermill": {
          "duration": 1.488105,
          "end_time": "2022-12-18T10:09:13.320212",
          "exception": false,
          "start_time": "2022-12-18T10:09:11.832107",
          "status": "completed"
        },
        "tags": [],
        "id": "3061675a",
        "outputId": "1ad44a28-e03e-408b-b2bf-201ba9f33731",
        "colab": {
          "base_uri": "https://localhost:8080/"
        }
      },
      "outputs": [
        {
          "output_type": "execute_result",
          "data": {
            "text/plain": [
              "array([0, 0, 0, 0, 0, 0, 0, 0, 0, 0, 0, 0, 0, 0, 0, 0, 0, 0, 0, 0, 0, 0,\n",
              "       0, 0, 0, 0, 0, 0, 0, 0, 0, 0, 0, 0, 0, 0, 0, 0, 0, 0, 0, 0, 0, 0,\n",
              "       0, 0, 0, 0, 0, 0, 0, 0, 0, 0, 0, 0, 0, 0, 0, 0, 0, 0, 0, 0, 0, 0,\n",
              "       0, 0, 0, 0, 0, 0, 0, 0, 0, 0, 0, 0, 0, 0])"
            ]
          },
          "metadata": {},
          "execution_count": 42
        }
      ],
      "source": [
        "# drop null or missing columns\n",
        "cleaned_data = network_data.dropna()\n",
        "cleaned_data.isna().sum().to_numpy()"
      ]
    },
    {
      "cell_type": "markdown",
      "id": "88a7e800",
      "metadata": {
        "papermill": {
          "duration": 0.587871,
          "end_time": "2022-12-18T10:09:14.498323",
          "exception": false,
          "start_time": "2022-12-18T10:09:13.910452",
          "status": "completed"
        },
        "tags": [],
        "id": "88a7e800"
      },
      "source": [
        "After removing the missing valued column in our data, we have now no feature that contains any missing or null value. Data is cleaned now."
      ]
    },
    {
      "cell_type": "markdown",
      "id": "10b090d5",
      "metadata": {
        "papermill": {
          "duration": 0.587957,
          "end_time": "2022-12-18T10:09:15.672157",
          "exception": false,
          "start_time": "2022-12-18T10:09:15.084200",
          "status": "completed"
        },
        "tags": [],
        "id": "10b090d5"
      },
      "source": [
        "### Label Encoding\n",
        "The Label feature in the data contains 3 labels as **Benign**, **BruteForceFTP** and **BruteForceSSH**. All these are in string format. For our neural network, we need to convert them into numbers so that our NN may understand their representations."
      ]
    },
    {
      "cell_type": "code",
      "execution_count": null,
      "id": "9baad647",
      "metadata": {
        "execution": {
          "iopub.execute_input": "2022-12-18T10:09:16.952471Z",
          "iopub.status.busy": "2022-12-18T10:09:16.947407Z",
          "iopub.status.idle": "2022-12-18T10:09:17.116166Z",
          "shell.execute_reply": "2022-12-18T10:09:17.116721Z",
          "shell.execute_reply.started": "2022-12-18T09:23:38.352098Z"
        },
        "papermill": {
          "duration": 0.837443,
          "end_time": "2022-12-18T10:09:17.116902",
          "exception": false,
          "start_time": "2022-12-18T10:09:16.279459",
          "status": "completed"
        },
        "tags": [],
        "id": "9baad647",
        "outputId": "6c69b890-b918-46d8-bc13-03873bf44f01",
        "colab": {
          "base_uri": "https://localhost:8080/"
        }
      },
      "outputs": [
        {
          "output_type": "stream",
          "name": "stderr",
          "text": [
            "<ipython-input-43-c0bdb82b1f12>:3: SettingWithCopyWarning:\n",
            "\n",
            "\n",
            "A value is trying to be set on a copy of a slice from a DataFrame.\n",
            "Try using .loc[row_indexer,col_indexer] = value instead\n",
            "\n",
            "See the caveats in the documentation: https://pandas.pydata.org/pandas-docs/stable/user_guide/indexing.html#returning-a-view-versus-a-copy\n",
            "\n"
          ]
        },
        {
          "output_type": "execute_result",
          "data": {
            "text/plain": [
              "array([0, 1, 2])"
            ]
          },
          "metadata": {},
          "execution_count": 43
        }
      ],
      "source": [
        "# encode the column labels\n",
        "label_encoder = LabelEncoder()\n",
        "cleaned_data['Label']= label_encoder.fit_transform(cleaned_data['Label'])\n",
        "cleaned_data['Label'].unique()"
      ]
    },
    {
      "cell_type": "code",
      "execution_count": null,
      "id": "02f4f0fd",
      "metadata": {
        "execution": {
          "iopub.execute_input": "2022-12-18T10:09:18.297329Z",
          "iopub.status.busy": "2022-12-18T10:09:18.296634Z",
          "iopub.status.idle": "2022-12-18T10:09:18.311485Z",
          "shell.execute_reply": "2022-12-18T10:09:18.311936Z",
          "shell.execute_reply.started": "2022-12-18T09:23:38.581653Z"
        },
        "papermill": {
          "duration": 0.607646,
          "end_time": "2022-12-18T10:09:18.312126",
          "exception": false,
          "start_time": "2022-12-18T10:09:17.704480",
          "status": "completed"
        },
        "tags": [],
        "id": "02f4f0fd",
        "outputId": "c2d59c0a-ce39-4ab7-ec37-037c3bcbfd22",
        "colab": {
          "base_uri": "https://localhost:8080/"
        }
      },
      "outputs": [
        {
          "output_type": "execute_result",
          "data": {
            "text/plain": [
              "0    665355\n",
              "1    193354\n",
              "2    187589\n",
              "Name: Label, dtype: int64"
            ]
          },
          "metadata": {},
          "execution_count": 44
        }
      ],
      "source": [
        "# check for encoded labels\n",
        "cleaned_data['Label'].value_counts()"
      ]
    },
    {
      "cell_type": "markdown",
      "id": "1ea961e1",
      "metadata": {
        "papermill": {
          "duration": 0.606381,
          "end_time": "2022-12-18T10:09:19.508947",
          "exception": false,
          "start_time": "2022-12-18T10:09:18.902566",
          "status": "completed"
        },
        "tags": [],
        "id": "1ea961e1"
      },
      "source": [
        "## Shaping the data for CNN\n",
        "For applying a convolutional neural network on our data, we will have to follow following steps:\n",
        "* Seperate the data of each of the labels\n",
        "* Create a numerical matrix representation of labels\n",
        "* Apply resampling on data so that can make the distribution equal for all labels\n",
        "* Create X (predictor) and Y (target) variables\n",
        "* Split the data into train and test sets\n",
        "* Make data multi-dimensional for CNN\n",
        "* Apply CNN on data"
      ]
    },
    {
      "cell_type": "code",
      "execution_count": null,
      "id": "23e19ca7",
      "metadata": {
        "execution": {
          "iopub.execute_input": "2022-12-18T10:09:20.743121Z",
          "iopub.status.busy": "2022-12-18T10:09:20.741705Z",
          "iopub.status.idle": "2022-12-18T10:09:22.064055Z",
          "shell.execute_reply": "2022-12-18T10:09:22.064573Z",
          "shell.execute_reply.started": "2022-12-18T09:23:38.601067Z"
        },
        "papermill": {
          "duration": 1.925011,
          "end_time": "2022-12-18T10:09:22.064772",
          "exception": false,
          "start_time": "2022-12-18T10:09:20.139761",
          "status": "completed"
        },
        "tags": [],
        "id": "23e19ca7"
      },
      "outputs": [],
      "source": [
        "# make 3 seperate datasets for 3 feature labels\n",
        "data_1 = cleaned_data[cleaned_data['Label'] == 0]\n",
        "data_2 = cleaned_data[cleaned_data['Label'] == 1]\n",
        "data_3 = cleaned_data[cleaned_data['Label'] == 2]\n",
        "\n",
        "# make benign feature\n",
        "y_1 = np.zeros(data_1.shape[0])\n",
        "y_benign = pd.DataFrame(y_1)\n",
        "\n",
        "# make bruteforce feature\n",
        "y_2 = np.ones(data_2.shape[0])\n",
        "y_bf = pd.DataFrame(y_2)\n",
        "\n",
        "# make bruteforceSSH feature\n",
        "y_3 = np.full(data_3.shape[0], 2)\n",
        "y_ssh = pd.DataFrame(y_3)\n",
        "\n",
        "# merging the original dataframe\n",
        "X = pd.concat([data_1, data_2, data_3], sort=True)\n",
        "y = pd.concat([y_benign, y_bf, y_ssh], sort=True)"
      ]
    },
    {
      "cell_type": "code",
      "execution_count": null,
      "id": "6908646c",
      "metadata": {
        "execution": {
          "iopub.execute_input": "2022-12-18T10:09:23.258358Z",
          "iopub.status.busy": "2022-12-18T10:09:23.257628Z",
          "iopub.status.idle": "2022-12-18T10:09:23.260577Z",
          "shell.execute_reply": "2022-12-18T10:09:23.261070Z",
          "shell.execute_reply.started": "2022-12-18T09:23:39.714756Z"
        },
        "papermill": {
          "duration": 0.608392,
          "end_time": "2022-12-18T10:09:23.261278",
          "exception": false,
          "start_time": "2022-12-18T10:09:22.652886",
          "status": "completed"
        },
        "tags": [],
        "id": "6908646c",
        "outputId": "fd9572c1-3a32-4763-d48e-8c911cb9288b",
        "colab": {
          "base_uri": "https://localhost:8080/"
        }
      },
      "outputs": [
        {
          "output_type": "execute_result",
          "data": {
            "text/plain": [
              "(array([0., 0., 0., ..., 0., 0., 0.]),\n",
              " array([1., 1., 1., ..., 1., 1., 1.]),\n",
              " array([2, 2, 2, ..., 2, 2, 2]))"
            ]
          },
          "metadata": {},
          "execution_count": 46
        }
      ],
      "source": [
        "y_1, y_2, y_3"
      ]
    },
    {
      "cell_type": "code",
      "execution_count": null,
      "id": "766b4f47",
      "metadata": {
        "execution": {
          "iopub.execute_input": "2022-12-18T10:09:24.446690Z",
          "iopub.status.busy": "2022-12-18T10:09:24.446005Z",
          "iopub.status.idle": "2022-12-18T10:09:24.450653Z",
          "shell.execute_reply": "2022-12-18T10:09:24.450069Z",
          "shell.execute_reply.started": "2022-12-18T09:23:39.725005Z"
        },
        "papermill": {
          "duration": 0.598426,
          "end_time": "2022-12-18T10:09:24.450798",
          "exception": false,
          "start_time": "2022-12-18T10:09:23.852372",
          "status": "completed"
        },
        "tags": [],
        "id": "766b4f47",
        "outputId": "0beb3ff2-65fc-4054-cb0c-e6c12630f28c",
        "colab": {
          "base_uri": "https://localhost:8080/"
        }
      },
      "outputs": [
        {
          "output_type": "stream",
          "name": "stdout",
          "text": [
            "(1046298, 80)\n",
            "(1046298, 1)\n"
          ]
        }
      ],
      "source": [
        "print(X.shape)\n",
        "print(y.shape)"
      ]
    },
    {
      "cell_type": "code",
      "execution_count": null,
      "id": "c302b9da",
      "metadata": {
        "execution": {
          "iopub.execute_input": "2022-12-18T10:09:25.626733Z",
          "iopub.status.busy": "2022-12-18T10:09:25.625626Z",
          "iopub.status.idle": "2022-12-18T10:09:25.812694Z",
          "shell.execute_reply": "2022-12-18T10:09:25.811896Z",
          "shell.execute_reply.started": "2022-12-18T09:23:39.737082Z"
        },
        "papermill": {
          "duration": 0.778539,
          "end_time": "2022-12-18T10:09:25.812862",
          "exception": false,
          "start_time": "2022-12-18T10:09:25.034323",
          "status": "completed"
        },
        "tags": [],
        "id": "c302b9da",
        "outputId": "9f2d350e-468d-4429-a73d-a0d724f646f6",
        "colab": {
          "base_uri": "https://localhost:8080/"
        }
      },
      "outputs": [
        {
          "output_type": "execute_result",
          "data": {
            "text/plain": [
              "array([0, 0, 0, 0, 0, 0, 0, 0, 0, 0, 0, 0, 0, 0, 0, 0, 0, 0, 0, 0, 0, 0,\n",
              "       0, 0, 0, 0, 0, 0, 0, 0, 0, 0, 0, 0, 0, 0, 0, 0, 0, 0, 0, 0, 0, 0,\n",
              "       0, 0, 0, 0, 0, 0, 0, 0, 0, 0, 0, 0, 0, 0, 0, 0, 0, 0, 0, 0, 0, 0,\n",
              "       0, 0, 0, 0, 0, 0, 0, 0, 0, 0, 0, 0, 0, 0])"
            ]
          },
          "metadata": {},
          "execution_count": 48
        }
      ],
      "source": [
        "# checking if there are some null values in data\n",
        "X.isnull().sum().to_numpy()"
      ]
    },
    {
      "cell_type": "markdown",
      "id": "2b2f1572",
      "metadata": {
        "papermill": {
          "duration": 0.584151,
          "end_time": "2022-12-18T10:09:26.988032",
          "exception": false,
          "start_time": "2022-12-18T10:09:26.403881",
          "status": "completed"
        },
        "tags": [],
        "id": "2b2f1572"
      },
      "source": [
        "The output of above cell shows that there are no null values in our data, and the data can now be used for model fitting. We have two types of datasets, normal and abnormal, and they'll be used for model fitting."
      ]
    },
    {
      "cell_type": "markdown",
      "id": "e13b7175",
      "metadata": {
        "papermill": {
          "duration": 0.587585,
          "end_time": "2022-12-18T10:09:28.197470",
          "exception": false,
          "start_time": "2022-12-18T10:09:27.609885",
          "status": "completed"
        },
        "tags": [],
        "id": "e13b7175"
      },
      "source": [
        "## Data Argumentation\n",
        "Ti avoid biasing in data, we need to use data argumentation on it so that we can remove bias from data and make equal distributions."
      ]
    },
    {
      "cell_type": "code",
      "execution_count": null,
      "id": "00dfea1e",
      "metadata": {
        "execution": {
          "iopub.execute_input": "2022-12-18T10:09:29.401589Z",
          "iopub.status.busy": "2022-12-18T10:09:29.400932Z",
          "iopub.status.idle": "2022-12-18T10:09:29.479391Z",
          "shell.execute_reply": "2022-12-18T10:09:29.478745Z",
          "shell.execute_reply.started": "2022-12-18T09:23:39.932954Z"
        },
        "papermill": {
          "duration": 0.689832,
          "end_time": "2022-12-18T10:09:29.479557",
          "exception": false,
          "start_time": "2022-12-18T10:09:28.789725",
          "status": "completed"
        },
        "tags": [],
        "id": "00dfea1e"
      },
      "outputs": [],
      "source": [
        "from sklearn.utils import resample\n",
        "\n",
        "data_1_resample = resample(data_1, n_samples=20000,\n",
        "                           random_state=123, replace=True)\n",
        "data_2_resample = resample(data_2, n_samples=20000,\n",
        "                           random_state=123, replace=True)\n",
        "data_3_resample = resample(data_3, n_samples=20000,\n",
        "                           random_state=123, replace=True)"
      ]
    },
    {
      "cell_type": "code",
      "execution_count": null,
      "id": "d55c7c94",
      "metadata": {
        "execution": {
          "iopub.execute_input": "2022-12-18T10:09:30.678456Z",
          "iopub.status.busy": "2022-12-18T10:09:30.677746Z",
          "iopub.status.idle": "2022-12-18T10:09:30.721079Z",
          "shell.execute_reply": "2022-12-18T10:09:30.721692Z",
          "shell.execute_reply.started": "2022-12-18T09:23:40.006377Z"
        },
        "papermill": {
          "duration": 0.649729,
          "end_time": "2022-12-18T10:09:30.721869",
          "exception": false,
          "start_time": "2022-12-18T10:09:30.072140",
          "status": "completed"
        },
        "tags": [],
        "id": "d55c7c94",
        "outputId": "7d6b37db-b5d3-461b-baff-d20851a7b683",
        "colab": {
          "base_uri": "https://localhost:8080/",
          "height": 272
        }
      },
      "outputs": [
        {
          "output_type": "execute_result",
          "data": {
            "text/plain": [
              "        Dst Port  Protocol            Timestamp  Flow Duration  Tot Fwd Pkts  \\\n",
              "659775        53        17  14/02/2018 03:29:35          79333             2   \n",
              "409094       443         6  14/02/2018 10:03:30         621591             9   \n",
              "\n",
              "        Tot Bwd Pkts  TotLen Fwd Pkts  TotLen Bwd Pkts  Fwd Pkt Len Max  \\\n",
              "659775             2               66              254               33   \n",
              "409094             8             1542             4796             1157   \n",
              "\n",
              "        Fwd Pkt Len Min  ...  Fwd Seg Size Min  Active Mean  Active Std  \\\n",
              "659775               33  ...                 8          0.0         0.0   \n",
              "409094                0  ...                20          0.0         0.0   \n",
              "\n",
              "        Active Max  Active Min  Idle Mean  Idle Std  Idle Max  Idle Min  Label  \n",
              "659775           0           0        0.0       0.0         0         0      0  \n",
              "409094           0           0        0.0       0.0         0         0      0  \n",
              "\n",
              "[2 rows x 80 columns]"
            ],
            "text/html": [
              "\n",
              "\n",
              "  <div id=\"df-a874c2c0-455e-415f-a13e-79c7d12140a8\">\n",
              "    <div class=\"colab-df-container\">\n",
              "      <div>\n",
              "<style scoped>\n",
              "    .dataframe tbody tr th:only-of-type {\n",
              "        vertical-align: middle;\n",
              "    }\n",
              "\n",
              "    .dataframe tbody tr th {\n",
              "        vertical-align: top;\n",
              "    }\n",
              "\n",
              "    .dataframe thead th {\n",
              "        text-align: right;\n",
              "    }\n",
              "</style>\n",
              "<table border=\"1\" class=\"dataframe\">\n",
              "  <thead>\n",
              "    <tr style=\"text-align: right;\">\n",
              "      <th></th>\n",
              "      <th>Dst Port</th>\n",
              "      <th>Protocol</th>\n",
              "      <th>Timestamp</th>\n",
              "      <th>Flow Duration</th>\n",
              "      <th>Tot Fwd Pkts</th>\n",
              "      <th>Tot Bwd Pkts</th>\n",
              "      <th>TotLen Fwd Pkts</th>\n",
              "      <th>TotLen Bwd Pkts</th>\n",
              "      <th>Fwd Pkt Len Max</th>\n",
              "      <th>Fwd Pkt Len Min</th>\n",
              "      <th>...</th>\n",
              "      <th>Fwd Seg Size Min</th>\n",
              "      <th>Active Mean</th>\n",
              "      <th>Active Std</th>\n",
              "      <th>Active Max</th>\n",
              "      <th>Active Min</th>\n",
              "      <th>Idle Mean</th>\n",
              "      <th>Idle Std</th>\n",
              "      <th>Idle Max</th>\n",
              "      <th>Idle Min</th>\n",
              "      <th>Label</th>\n",
              "    </tr>\n",
              "  </thead>\n",
              "  <tbody>\n",
              "    <tr>\n",
              "      <th>659775</th>\n",
              "      <td>53</td>\n",
              "      <td>17</td>\n",
              "      <td>14/02/2018 03:29:35</td>\n",
              "      <td>79333</td>\n",
              "      <td>2</td>\n",
              "      <td>2</td>\n",
              "      <td>66</td>\n",
              "      <td>254</td>\n",
              "      <td>33</td>\n",
              "      <td>33</td>\n",
              "      <td>...</td>\n",
              "      <td>8</td>\n",
              "      <td>0.0</td>\n",
              "      <td>0.0</td>\n",
              "      <td>0</td>\n",
              "      <td>0</td>\n",
              "      <td>0.0</td>\n",
              "      <td>0.0</td>\n",
              "      <td>0</td>\n",
              "      <td>0</td>\n",
              "      <td>0</td>\n",
              "    </tr>\n",
              "    <tr>\n",
              "      <th>409094</th>\n",
              "      <td>443</td>\n",
              "      <td>6</td>\n",
              "      <td>14/02/2018 10:03:30</td>\n",
              "      <td>621591</td>\n",
              "      <td>9</td>\n",
              "      <td>8</td>\n",
              "      <td>1542</td>\n",
              "      <td>4796</td>\n",
              "      <td>1157</td>\n",
              "      <td>0</td>\n",
              "      <td>...</td>\n",
              "      <td>20</td>\n",
              "      <td>0.0</td>\n",
              "      <td>0.0</td>\n",
              "      <td>0</td>\n",
              "      <td>0</td>\n",
              "      <td>0.0</td>\n",
              "      <td>0.0</td>\n",
              "      <td>0</td>\n",
              "      <td>0</td>\n",
              "      <td>0</td>\n",
              "    </tr>\n",
              "  </tbody>\n",
              "</table>\n",
              "<p>2 rows × 80 columns</p>\n",
              "</div>\n",
              "      <button class=\"colab-df-convert\" onclick=\"convertToInteractive('df-a874c2c0-455e-415f-a13e-79c7d12140a8')\"\n",
              "              title=\"Convert this dataframe to an interactive table.\"\n",
              "              style=\"display:none;\">\n",
              "\n",
              "  <svg xmlns=\"http://www.w3.org/2000/svg\" height=\"24px\"viewBox=\"0 0 24 24\"\n",
              "       width=\"24px\">\n",
              "    <path d=\"M0 0h24v24H0V0z\" fill=\"none\"/>\n",
              "    <path d=\"M18.56 5.44l.94 2.06.94-2.06 2.06-.94-2.06-.94-.94-2.06-.94 2.06-2.06.94zm-11 1L8.5 8.5l.94-2.06 2.06-.94-2.06-.94L8.5 2.5l-.94 2.06-2.06.94zm10 10l.94 2.06.94-2.06 2.06-.94-2.06-.94-.94-2.06-.94 2.06-2.06.94z\"/><path d=\"M17.41 7.96l-1.37-1.37c-.4-.4-.92-.59-1.43-.59-.52 0-1.04.2-1.43.59L10.3 9.45l-7.72 7.72c-.78.78-.78 2.05 0 2.83L4 21.41c.39.39.9.59 1.41.59.51 0 1.02-.2 1.41-.59l7.78-7.78 2.81-2.81c.8-.78.8-2.07 0-2.86zM5.41 20L4 18.59l7.72-7.72 1.47 1.35L5.41 20z\"/>\n",
              "  </svg>\n",
              "      </button>\n",
              "\n",
              "\n",
              "\n",
              "    <div id=\"df-393b6ea4-3fa7-4003-bd0f-de70b5fc5275\">\n",
              "      <button class=\"colab-df-quickchart\" onclick=\"quickchart('df-393b6ea4-3fa7-4003-bd0f-de70b5fc5275')\"\n",
              "              title=\"Suggest charts.\"\n",
              "              style=\"display:none;\">\n",
              "\n",
              "<svg xmlns=\"http://www.w3.org/2000/svg\" height=\"24px\"viewBox=\"0 0 24 24\"\n",
              "     width=\"24px\">\n",
              "    <g>\n",
              "        <path d=\"M19 3H5c-1.1 0-2 .9-2 2v14c0 1.1.9 2 2 2h14c1.1 0 2-.9 2-2V5c0-1.1-.9-2-2-2zM9 17H7v-7h2v7zm4 0h-2V7h2v10zm4 0h-2v-4h2v4z\"/>\n",
              "    </g>\n",
              "</svg>\n",
              "      </button>\n",
              "    </div>\n",
              "\n",
              "<style>\n",
              "  .colab-df-quickchart {\n",
              "    background-color: #E8F0FE;\n",
              "    border: none;\n",
              "    border-radius: 50%;\n",
              "    cursor: pointer;\n",
              "    display: none;\n",
              "    fill: #1967D2;\n",
              "    height: 32px;\n",
              "    padding: 0 0 0 0;\n",
              "    width: 32px;\n",
              "  }\n",
              "\n",
              "  .colab-df-quickchart:hover {\n",
              "    background-color: #E2EBFA;\n",
              "    box-shadow: 0px 1px 2px rgba(60, 64, 67, 0.3), 0px 1px 3px 1px rgba(60, 64, 67, 0.15);\n",
              "    fill: #174EA6;\n",
              "  }\n",
              "\n",
              "  [theme=dark] .colab-df-quickchart {\n",
              "    background-color: #3B4455;\n",
              "    fill: #D2E3FC;\n",
              "  }\n",
              "\n",
              "  [theme=dark] .colab-df-quickchart:hover {\n",
              "    background-color: #434B5C;\n",
              "    box-shadow: 0px 1px 3px 1px rgba(0, 0, 0, 0.15);\n",
              "    filter: drop-shadow(0px 1px 2px rgba(0, 0, 0, 0.3));\n",
              "    fill: #FFFFFF;\n",
              "  }\n",
              "</style>\n",
              "\n",
              "    <script>\n",
              "      async function quickchart(key) {\n",
              "        const containerElement = document.querySelector('#' + key);\n",
              "        const charts = await google.colab.kernel.invokeFunction(\n",
              "            'suggestCharts', [key], {});\n",
              "      }\n",
              "    </script>\n",
              "\n",
              "\n",
              "      <script>\n",
              "\n",
              "function displayQuickchartButton(domScope) {\n",
              "  let quickchartButtonEl =\n",
              "    domScope.querySelector('#df-393b6ea4-3fa7-4003-bd0f-de70b5fc5275 button.colab-df-quickchart');\n",
              "  quickchartButtonEl.style.display =\n",
              "    google.colab.kernel.accessAllowed ? 'block' : 'none';\n",
              "}\n",
              "\n",
              "        displayQuickchartButton(document);\n",
              "      </script>\n",
              "      <style>\n",
              "    .colab-df-container {\n",
              "      display:flex;\n",
              "      flex-wrap:wrap;\n",
              "      gap: 12px;\n",
              "    }\n",
              "\n",
              "    .colab-df-convert {\n",
              "      background-color: #E8F0FE;\n",
              "      border: none;\n",
              "      border-radius: 50%;\n",
              "      cursor: pointer;\n",
              "      display: none;\n",
              "      fill: #1967D2;\n",
              "      height: 32px;\n",
              "      padding: 0 0 0 0;\n",
              "      width: 32px;\n",
              "    }\n",
              "\n",
              "    .colab-df-convert:hover {\n",
              "      background-color: #E2EBFA;\n",
              "      box-shadow: 0px 1px 2px rgba(60, 64, 67, 0.3), 0px 1px 3px 1px rgba(60, 64, 67, 0.15);\n",
              "      fill: #174EA6;\n",
              "    }\n",
              "\n",
              "    [theme=dark] .colab-df-convert {\n",
              "      background-color: #3B4455;\n",
              "      fill: #D2E3FC;\n",
              "    }\n",
              "\n",
              "    [theme=dark] .colab-df-convert:hover {\n",
              "      background-color: #434B5C;\n",
              "      box-shadow: 0px 1px 3px 1px rgba(0, 0, 0, 0.15);\n",
              "      filter: drop-shadow(0px 1px 2px rgba(0, 0, 0, 0.3));\n",
              "      fill: #FFFFFF;\n",
              "    }\n",
              "  </style>\n",
              "\n",
              "      <script>\n",
              "        const buttonEl =\n",
              "          document.querySelector('#df-a874c2c0-455e-415f-a13e-79c7d12140a8 button.colab-df-convert');\n",
              "        buttonEl.style.display =\n",
              "          google.colab.kernel.accessAllowed ? 'block' : 'none';\n",
              "\n",
              "        async function convertToInteractive(key) {\n",
              "          const element = document.querySelector('#df-a874c2c0-455e-415f-a13e-79c7d12140a8');\n",
              "          const dataTable =\n",
              "            await google.colab.kernel.invokeFunction('convertToInteractive',\n",
              "                                                     [key], {});\n",
              "          if (!dataTable) return;\n",
              "\n",
              "          const docLinkHtml = 'Like what you see? Visit the ' +\n",
              "            '<a target=\"_blank\" href=https://colab.research.google.com/notebooks/data_table.ipynb>data table notebook</a>'\n",
              "            + ' to learn more about interactive tables.';\n",
              "          element.innerHTML = '';\n",
              "          dataTable['output_type'] = 'display_data';\n",
              "          await google.colab.output.renderOutput(dataTable, element);\n",
              "          const docLink = document.createElement('div');\n",
              "          docLink.innerHTML = docLinkHtml;\n",
              "          element.appendChild(docLink);\n",
              "        }\n",
              "      </script>\n",
              "    </div>\n",
              "  </div>\n"
            ]
          },
          "metadata": {},
          "execution_count": 50
        }
      ],
      "source": [
        "train_dataset = pd.concat([data_1_resample, data_2_resample, data_3_resample])\n",
        "train_dataset.head(2)"
      ]
    },
    {
      "cell_type": "code",
      "execution_count": null,
      "id": "19037623",
      "metadata": {
        "execution": {
          "iopub.execute_input": "2022-12-18T10:09:31.925233Z",
          "iopub.status.busy": "2022-12-18T10:09:31.924564Z",
          "iopub.status.idle": "2022-12-18T10:09:32.039549Z",
          "shell.execute_reply": "2022-12-18T10:09:32.040109Z",
          "shell.execute_reply.started": "2022-12-18T09:23:40.054940Z"
        },
        "papermill": {
          "duration": 0.722629,
          "end_time": "2022-12-18T10:09:32.040332",
          "exception": false,
          "start_time": "2022-12-18T10:09:31.317703",
          "status": "completed"
        },
        "tags": [],
        "id": "19037623",
        "outputId": "22b344f7-f126-4b84-b64f-e9dc84106805",
        "colab": {
          "base_uri": "https://localhost:8080/",
          "height": 692
        }
      },
      "outputs": [
        {
          "output_type": "execute_result",
          "data": {
            "text/plain": [
              "<matplotlib.patches.Circle at 0x7b43adb0fee0>"
            ]
          },
          "metadata": {},
          "execution_count": 51
        },
        {
          "output_type": "display_data",
          "data": {
            "text/plain": [
              "<Figure size 1000x800 with 1 Axes>"
            ],
            "image/png": "[encoded data removed]"
          },
          "metadata": {}
        }
      ],
      "source": [
        "# viewing the distribution of intrusion attacks in our dataset\n",
        "plt.figure(figsize=(10, 8))\n",
        "circle = plt.Circle((0, 0), 0.7, color='white')\n",
        "plt.title('Intrusion Attack Type Distribution')\n",
        "plt.pie(train_dataset['Label'].value_counts(), labels=['Benign', 'BF', 'BF-SSH'], colors=['blue', 'magenta', 'cyan'])\n",
        "p = plt.gcf()\n",
        "p.gca().add_artist(circle)"
      ]
    },
    {
      "cell_type": "markdown",
      "id": "ff893637",
      "metadata": {
        "papermill": {
          "duration": 0.587616,
          "end_time": "2022-12-18T10:09:33.229583",
          "exception": false,
          "start_time": "2022-12-18T10:09:32.641967",
          "status": "completed"
        },
        "tags": [],
        "id": "ff893637"
      },
      "source": [
        "## Making X & Y Variables (CNN)"
      ]
    },
    {
      "cell_type": "code",
      "execution_count": null,
      "id": "1409d11c",
      "metadata": {
        "execution": {
          "iopub.execute_input": "2022-12-18T10:09:34.419953Z",
          "iopub.status.busy": "2022-12-18T10:09:34.417857Z",
          "iopub.status.idle": "2022-12-18T10:09:34.466273Z",
          "shell.execute_reply": "2022-12-18T10:09:34.466744Z",
          "shell.execute_reply.started": "2022-12-18T09:23:40.179899Z"
        },
        "papermill": {
          "duration": 0.641092,
          "end_time": "2022-12-18T10:09:34.466928",
          "exception": false,
          "start_time": "2022-12-18T10:09:33.825836",
          "status": "completed"
        },
        "tags": [],
        "id": "1409d11c",
        "outputId": "9d8d1c55-f078-4570-d712-ab698bde584f",
        "colab": {
          "base_uri": "https://localhost:8080/"
        }
      },
      "outputs": [
        {
          "output_type": "execute_result",
          "data": {
            "text/plain": [
              "(array([0, 1, 2]), array([2, 1, 0]))"
            ]
          },
          "metadata": {},
          "execution_count": 52
        }
      ],
      "source": [
        "test_dataset = train_dataset.sample(frac=0.1)\n",
        "target_train = train_dataset['Label']\n",
        "target_test = test_dataset['Label']\n",
        "target_train.unique(), target_test.unique()"
      ]
    },
    {
      "cell_type": "code",
      "execution_count": null,
      "id": "f84209a3",
      "metadata": {
        "execution": {
          "iopub.execute_input": "2022-12-18T10:09:35.657377Z",
          "iopub.status.busy": "2022-12-18T10:09:35.656677Z",
          "iopub.status.idle": "2022-12-18T10:09:35.661828Z",
          "shell.execute_reply": "2022-12-18T10:09:35.662399Z",
          "shell.execute_reply.started": "2022-12-18T09:23:40.238496Z"
        },
        "papermill": {
          "duration": 0.605434,
          "end_time": "2022-12-18T10:09:35.662708",
          "exception": false,
          "start_time": "2022-12-18T10:09:35.057274",
          "status": "completed"
        },
        "tags": [],
        "id": "f84209a3"
      },
      "outputs": [],
      "source": [
        "y_train = to_categorical(target_train, num_classes=3)\n",
        "y_test = to_categorical(target_test, num_classes=3)"
      ]
    },
    {
      "cell_type": "markdown",
      "id": "0ad6c46d",
      "metadata": {
        "papermill": {
          "duration": 0.592116,
          "end_time": "2022-12-18T10:09:36.857195",
          "exception": false,
          "start_time": "2022-12-18T10:09:36.265079",
          "status": "completed"
        },
        "tags": [],
        "id": "0ad6c46d"
      },
      "source": [
        "## Data Splicing\n",
        "This stage involves the data split into train & test sets. The training data will be used for training our model, and the testing data will be used to check the performance of model on unseen dataset. We're using a split of **80-20**, i.e., **80%** data to be used for training & **20%** to be used for testing purpose."
      ]
    },
    {
      "cell_type": "code",
      "execution_count": null,
      "id": "c90c4a48",
      "metadata": {
        "execution": {
          "iopub.execute_input": "2022-12-18T10:09:38.049296Z",
          "iopub.status.busy": "2022-12-18T10:09:38.048560Z",
          "iopub.status.idle": "2022-12-18T10:09:38.064609Z",
          "shell.execute_reply": "2022-12-18T10:09:38.063857Z",
          "shell.execute_reply.started": "2022-12-18T09:23:40.247475Z"
        },
        "papermill": {
          "duration": 0.612876,
          "end_time": "2022-12-18T10:09:38.064765",
          "exception": false,
          "start_time": "2022-12-18T10:09:37.451889",
          "status": "completed"
        },
        "tags": [],
        "id": "c90c4a48"
      },
      "outputs": [],
      "source": [
        "train_dataset = train_dataset.drop(columns = [\"Timestamp\", \"Protocol\",\"PSH Flag Cnt\",\"Init Fwd Win Byts\",\"Flow Byts/s\",\"Flow Pkts/s\", \"Label\"], axis=1)\n",
        "test_dataset = test_dataset.drop(columns = [\"Timestamp\", \"Protocol\",\"PSH Flag Cnt\",\"Init Fwd Win Byts\",\"Flow Byts/s\",\"Flow Pkts/s\", \"Label\"], axis=1)"
      ]
    },
    {
      "cell_type": "code",
      "execution_count": null,
      "id": "507b1f17",
      "metadata": {
        "execution": {
          "iopub.execute_input": "2022-12-18T10:09:39.294582Z",
          "iopub.status.busy": "2022-12-18T10:09:39.293810Z",
          "iopub.status.idle": "2022-12-18T10:09:39.332578Z",
          "shell.execute_reply": "2022-12-18T10:09:39.333305Z",
          "shell.execute_reply.started": "2022-12-18T09:23:40.269666Z"
        },
        "papermill": {
          "duration": 0.641594,
          "end_time": "2022-12-18T10:09:39.333503",
          "exception": false,
          "start_time": "2022-12-18T10:09:38.691909",
          "status": "completed"
        },
        "tags": [],
        "id": "507b1f17",
        "outputId": "29c15e06-3d86-4eef-b220-294ce446be27",
        "colab": {
          "base_uri": "https://localhost:8080/"
        }
      },
      "outputs": [
        {
          "output_type": "execute_result",
          "data": {
            "text/plain": [
              "array([[2.20000e+01, 3.64274e+05, 2.20000e+01, ..., 0.00000e+00,\n",
              "        0.00000e+00, 0.00000e+00],\n",
              "       [2.20000e+01, 7.00000e+00, 1.00000e+00, ..., 0.00000e+00,\n",
              "        0.00000e+00, 0.00000e+00],\n",
              "       [2.10000e+01, 2.00000e+00, 1.00000e+00, ..., 0.00000e+00,\n",
              "        0.00000e+00, 0.00000e+00],\n",
              "       ...,\n",
              "       [2.20000e+01, 3.77324e+05, 2.20000e+01, ..., 0.00000e+00,\n",
              "        0.00000e+00, 0.00000e+00],\n",
              "       [5.30000e+01, 9.93000e+02, 1.00000e+00, ..., 0.00000e+00,\n",
              "        0.00000e+00, 0.00000e+00],\n",
              "       [2.10000e+01, 3.00000e+00, 1.00000e+00, ..., 0.00000e+00,\n",
              "        0.00000e+00, 0.00000e+00]])"
            ]
          },
          "metadata": {},
          "execution_count": 55
        }
      ],
      "source": [
        "# making train & test splits\n",
        "X_train = train_dataset.iloc[:, :-1].values\n",
        "X_test = test_dataset.iloc[:, :-1].values\n",
        "X_test"
      ]
    },
    {
      "cell_type": "code",
      "execution_count": null,
      "id": "eb7e4689",
      "metadata": {
        "execution": {
          "iopub.execute_input": "2022-12-18T10:09:40.537926Z",
          "iopub.status.busy": "2022-12-18T10:09:40.537108Z",
          "iopub.status.idle": "2022-12-18T10:09:40.543161Z",
          "shell.execute_reply": "2022-12-18T10:09:40.544389Z",
          "shell.execute_reply.started": "2022-12-18T09:23:40.316695Z"
        },
        "papermill": {
          "duration": 0.607947,
          "end_time": "2022-12-18T10:09:40.544743",
          "exception": false,
          "start_time": "2022-12-18T10:09:39.936796",
          "status": "completed"
        },
        "tags": [],
        "id": "eb7e4689",
        "outputId": "9ce6bfe4-a123-4475-fd4d-7931fe25941d",
        "colab": {
          "base_uri": "https://localhost:8080/"
        }
      },
      "outputs": [
        {
          "output_type": "stream",
          "name": "stdout",
          "text": [
            "(60000, 72)\n",
            "(6000, 72)\n",
            "(60000, 3)\n",
            "(6000, 3)\n"
          ]
        }
      ],
      "source": [
        "print(X_train.shape)\n",
        "print(X_test.shape)\n",
        "print(y_train.shape)\n",
        "print(y_test.shape)"
      ]
    },
    {
      "cell_type": "code",
      "execution_count": null,
      "id": "0327adda",
      "metadata": {
        "execution": {
          "iopub.execute_input": "2022-12-18T10:09:41.753151Z",
          "iopub.status.busy": "2022-12-18T10:09:41.752462Z",
          "iopub.status.idle": "2022-12-18T10:09:41.758930Z",
          "shell.execute_reply": "2022-12-18T10:09:41.759483Z",
          "shell.execute_reply.started": "2022-12-18T09:23:40.324529Z"
        },
        "papermill": {
          "duration": 0.613218,
          "end_time": "2022-12-18T10:09:41.759668",
          "exception": false,
          "start_time": "2022-12-18T10:09:41.146450",
          "status": "completed"
        },
        "tags": [],
        "id": "0327adda",
        "outputId": "bbfc02fc-f02c-4505-b323-6c4a7ce43fce",
        "colab": {
          "base_uri": "https://localhost:8080/"
        }
      },
      "outputs": [
        {
          "output_type": "execute_result",
          "data": {
            "text/plain": [
              "((60000, 72, 1), (6000, 72, 1))"
            ]
          },
          "metadata": {},
          "execution_count": 57
        }
      ],
      "source": [
        "# reshape the data for CNN\n",
        "X_train = X_train.reshape(len(X_train), X_train.shape[1], 1)\n",
        "X_test = X_test.reshape(len(X_test), X_test.shape[1], 1)\n",
        "X_train.shape, X_test.shape"
      ]
    },
    {
      "cell_type": "code",
      "execution_count": null,
      "id": "a720a3d7",
      "metadata": {
        "execution": {
          "iopub.execute_input": "2022-12-18T10:09:42.963719Z",
          "iopub.status.busy": "2022-12-18T10:09:42.962724Z",
          "iopub.status.idle": "2022-12-18T10:09:42.966511Z",
          "shell.execute_reply": "2022-12-18T10:09:42.967296Z",
          "shell.execute_reply.started": "2022-12-18T09:23:40.339115Z"
        },
        "papermill": {
          "duration": 0.611077,
          "end_time": "2022-12-18T10:09:42.967514",
          "exception": false,
          "start_time": "2022-12-18T10:09:42.356437",
          "status": "completed"
        },
        "tags": [],
        "id": "a720a3d7"
      },
      "outputs": [],
      "source": [
        "# making the deep learning function\n",
        "def model():\n",
        "    model = Sequential()\n",
        "    model.add(Conv1D(filters=64, kernel_size=6, activation='relu',\n",
        "                    padding='same', input_shape=(72, 1)))\n",
        "    model.add(BatchNormalization())\n",
        "\n",
        "    # adding a pooling layer\n",
        "    model.add(MaxPooling1D(pool_size=(3), strides=2, padding='same'))\n",
        "\n",
        "    model.add(Conv1D(filters=64, kernel_size=6, activation='relu',\n",
        "                    padding='same', input_shape=(72, 1)))\n",
        "    model.add(BatchNormalization())\n",
        "    model.add(MaxPooling1D(pool_size=(3), strides=2, padding='same'))\n",
        "\n",
        "    model.add(Conv1D(filters=64, kernel_size=6, activation='relu',\n",
        "                    padding='same', input_shape=(72, 1)))\n",
        "    model.add(BatchNormalization())\n",
        "    model.add(MaxPooling1D(pool_size=(3), strides=2, padding='same'))\n",
        "\n",
        "    model.add(Flatten())\n",
        "    model.add(Dense(64, activation='relu'))\n",
        "    model.add(Dense(64, activation='relu'))\n",
        "    model.add(Dense(3, activation='softmax'))\n",
        "\n",
        "    model.compile(loss='categorical_crossentropy', optimizer='adam', metrics=['accuracy'])\n",
        "    return model"
      ]
    },
    {
      "cell_type": "code",
      "execution_count": null,
      "id": "8c62b09b",
      "metadata": {
        "execution": {
          "iopub.execute_input": "2022-12-18T10:09:44.183903Z",
          "iopub.status.busy": "2022-12-18T10:09:44.183133Z",
          "iopub.status.idle": "2022-12-18T10:09:44.461293Z",
          "shell.execute_reply": "2022-12-18T10:09:44.460588Z",
          "shell.execute_reply.started": "2022-12-18T09:23:40.350774Z"
        },
        "papermill": {
          "duration": 0.890158,
          "end_time": "2022-12-18T10:09:44.461470",
          "exception": false,
          "start_time": "2022-12-18T10:09:43.571312",
          "status": "completed"
        },
        "tags": [],
        "id": "8c62b09b",
        "outputId": "3d1eabc5-32b0-40d3-8714-23d3c0b99f26",
        "colab": {
          "base_uri": "https://localhost:8080/"
        }
      },
      "outputs": [
        {
          "output_type": "stream",
          "name": "stdout",
          "text": [
            "Model: \"sequential\"\n",
            "_________________________________________________________________\n",
            " Layer (type)                Output Shape              Param #   \n",
            "=================================================================\n",
            " conv1d (Conv1D)             (None, 72, 64)            448       \n",
            "                                                                 \n",
            " batch_normalization (BatchN  (None, 72, 64)           256       \n",
            " ormalization)                                                   \n",
            "                                                                 \n",
            " max_pooling1d (MaxPooling1D  (None, 36, 64)           0         \n",
            " )                                                               \n",
            "                                                                 \n",
            " conv1d_1 (Conv1D)           (None, 36, 64)            24640     \n",
            "                                                                 \n",
            " batch_normalization_1 (Batc  (None, 36, 64)           256       \n",
            " hNormalization)                                                 \n",
            "                                                                 \n",
            " max_pooling1d_1 (MaxPooling  (None, 18, 64)           0         \n",
            " 1D)                                                             \n",
            "                                                                 \n",
            " conv1d_2 (Conv1D)           (None, 18, 64)            24640     \n",
            "                                                                 \n",
            " batch_normalization_2 (Batc  (None, 18, 64)           256       \n",
            " hNormalization)                                                 \n",
            "                                                                 \n",
            " max_pooling1d_2 (MaxPooling  (None, 9, 64)            0         \n",
            " 1D)                                                             \n",
            "                                                                 \n",
            " flatten (Flatten)           (None, 576)               0         \n",
            "                                                                 \n",
            " dense (Dense)               (None, 64)                36928     \n",
            "                                                                 \n",
            " dense_1 (Dense)             (None, 64)                4160      \n",
            "                                                                 \n",
            " dense_2 (Dense)             (None, 3)                 195       \n",
            "                                                                 \n",
            "=================================================================\n",
            "Total params: 91,779\n",
            "Trainable params: 91,395\n",
            "Non-trainable params: 384\n",
            "_________________________________________________________________\n"
          ]
        }
      ],
      "source": [
        "model = model()\n",
        "model.summary()"
      ]
    },
    {
      "cell_type": "code",
      "execution_count": null,
      "id": "28f5d8ea",
      "metadata": {
        "execution": {
          "iopub.execute_input": "2022-12-18T10:09:45.678098Z",
          "iopub.status.busy": "2022-12-18T10:09:45.677315Z",
          "iopub.status.idle": "2022-12-18T10:53:09.242396Z",
          "shell.execute_reply": "2022-12-18T10:53:09.243051Z",
          "shell.execute_reply.started": "2022-12-18T09:23:40.491921Z"
        },
        "papermill": {
          "duration": 2604.172105,
          "end_time": "2022-12-18T10:53:09.243240",
          "exception": false,
          "start_time": "2022-12-18T10:09:45.071135",
          "status": "completed"
        },
        "tags": [],
        "id": "28f5d8ea",
        "outputId": "0079f2fd-f672-4aaa-fb20-aa1bda23ca6a",
        "colab": {
          "base_uri": "https://localhost:8080/"
        }
      },
      "outputs": [
        {
          "output_type": "stream",
          "name": "stdout",
          "text": [
            "Epoch 1/100\n",
            "1875/1875 [==============================] - 55s 28ms/step - loss: 0.1380 - accuracy: 0.9534 - val_loss: 2.0015 - val_accuracy: 0.3373\n",
            "Epoch 2/100\n",
            "1875/1875 [==============================] - 55s 29ms/step - loss: 0.0866 - accuracy: 0.9725 - val_loss: 0.9831 - val_accuracy: 0.6148\n",
            "Epoch 3/100\n",
            "1875/1875 [==============================] - 49s 26ms/step - loss: 0.0818 - accuracy: 0.9742 - val_loss: 1.8675 - val_accuracy: 0.4583\n",
            "Epoch 4/100\n",
            "1875/1875 [==============================] - 51s 27ms/step - loss: 0.0765 - accuracy: 0.9755 - val_loss: 2.0132 - val_accuracy: 0.4748\n",
            "Epoch 5/100\n",
            "1875/1875 [==============================] - 50s 27ms/step - loss: 0.0737 - accuracy: 0.9765 - val_loss: 1.0853 - val_accuracy: 0.5298\n",
            "Epoch 6/100\n",
            "1875/1875 [==============================] - 51s 27ms/step - loss: 0.0739 - accuracy: 0.9775 - val_loss: 1.0486 - val_accuracy: 0.7737\n",
            "Epoch 7/100\n",
            "1875/1875 [==============================] - 48s 26ms/step - loss: 0.0729 - accuracy: 0.9761 - val_loss: 1.3233 - val_accuracy: 0.6650\n",
            "Epoch 8/100\n",
            "1875/1875 [==============================] - 50s 27ms/step - loss: 0.0692 - accuracy: 0.9780 - val_loss: 0.9957 - val_accuracy: 0.6645\n",
            "Epoch 9/100\n",
            "1875/1875 [==============================] - 53s 28ms/step - loss: 0.0685 - accuracy: 0.9782 - val_loss: 0.9685 - val_accuracy: 0.7772\n",
            "Epoch 10/100\n",
            "1875/1875 [==============================] - 49s 26ms/step - loss: 0.0664 - accuracy: 0.9780 - val_loss: 1.2522 - val_accuracy: 0.4872\n",
            "Epoch 11/100\n",
            "1875/1875 [==============================] - 50s 27ms/step - loss: 0.0682 - accuracy: 0.9784 - val_loss: 2.0836 - val_accuracy: 0.5282\n",
            "Epoch 12/100\n",
            "1875/1875 [==============================] - 48s 25ms/step - loss: 0.0659 - accuracy: 0.9792 - val_loss: 1.4148 - val_accuracy: 0.6648\n",
            "Epoch 13/100\n",
            "1875/1875 [==============================] - 48s 26ms/step - loss: 0.0678 - accuracy: 0.9782 - val_loss: 1.0129 - val_accuracy: 0.6382\n",
            "Epoch 14/100\n",
            "1875/1875 [==============================] - 49s 26ms/step - loss: 0.0632 - accuracy: 0.9796 - val_loss: 1.2608 - val_accuracy: 0.6612\n",
            "Epoch 15/100\n",
            "1875/1875 [==============================] - 52s 28ms/step - loss: 0.0642 - accuracy: 0.9791 - val_loss: 0.6728 - val_accuracy: 0.7752\n",
            "Epoch 16/100\n",
            "1875/1875 [==============================] - 50s 27ms/step - loss: 0.0684 - accuracy: 0.9782 - val_loss: 1.1004 - val_accuracy: 0.5185\n",
            "Epoch 17/100\n",
            "1875/1875 [==============================] - 49s 26ms/step - loss: 0.0641 - accuracy: 0.9797 - val_loss: 1.3616 - val_accuracy: 0.6610\n",
            "Epoch 18/100\n",
            "1875/1875 [==============================] - 49s 26ms/step - loss: 0.0630 - accuracy: 0.9799 - val_loss: 0.8593 - val_accuracy: 0.6598\n",
            "Epoch 19/100\n",
            "1875/1875 [==============================] - 50s 27ms/step - loss: 0.0619 - accuracy: 0.9796 - val_loss: 1.1656 - val_accuracy: 0.5833\n",
            "Epoch 20/100\n",
            "1875/1875 [==============================] - 49s 26ms/step - loss: 0.0579 - accuracy: 0.9813 - val_loss: 1.3394 - val_accuracy: 0.6578\n",
            "Epoch 21/100\n",
            "1875/1875 [==============================] - 50s 27ms/step - loss: 0.0550 - accuracy: 0.9822 - val_loss: 1.6325 - val_accuracy: 0.5097\n",
            "Epoch 22/100\n",
            "1875/1875 [==============================] - 50s 27ms/step - loss: 0.0356 - accuracy: 0.9894 - val_loss: 3.5978 - val_accuracy: 0.4485\n",
            "Epoch 23/100\n",
            "1875/1875 [==============================] - 49s 26ms/step - loss: 0.0080 - accuracy: 0.9984 - val_loss: 0.3042 - val_accuracy: 0.9068\n",
            "Epoch 24/100\n",
            "1875/1875 [==============================] - 51s 27ms/step - loss: 0.0094 - accuracy: 0.9986 - val_loss: 0.3444 - val_accuracy: 0.7767\n",
            "Epoch 25/100\n",
            "1875/1875 [==============================] - 50s 26ms/step - loss: 0.0074 - accuracy: 0.9984 - val_loss: 0.0639 - val_accuracy: 0.9915\n",
            "Epoch 26/100\n",
            "1875/1875 [==============================] - 50s 27ms/step - loss: 0.0054 - accuracy: 0.9992 - val_loss: 0.9478 - val_accuracy: 0.7518\n",
            "Epoch 27/100\n",
            "1875/1875 [==============================] - 50s 27ms/step - loss: 0.0068 - accuracy: 0.9987 - val_loss: 0.7691 - val_accuracy: 0.7282\n",
            "Epoch 28/100\n",
            "1875/1875 [==============================] - 49s 26ms/step - loss: 0.0051 - accuracy: 0.9992 - val_loss: 9.7444 - val_accuracy: 0.3373\n",
            "Epoch 29/100\n",
            "1875/1875 [==============================] - 51s 27ms/step - loss: 0.0143 - accuracy: 0.9982 - val_loss: 1.4964 - val_accuracy: 0.6378\n",
            "Epoch 30/100\n",
            "1875/1875 [==============================] - 49s 26ms/step - loss: 0.0065 - accuracy: 0.9987 - val_loss: 1.4421 - val_accuracy: 0.7780\n",
            "Epoch 31/100\n",
            "1875/1875 [==============================] - 51s 27ms/step - loss: 0.0084 - accuracy: 0.9980 - val_loss: 0.3084 - val_accuracy: 0.8567\n",
            "Epoch 32/100\n",
            "1875/1875 [==============================] - 51s 27ms/step - loss: 0.0060 - accuracy: 0.9989 - val_loss: 0.0777 - val_accuracy: 0.9847\n",
            "Epoch 33/100\n",
            "1875/1875 [==============================] - 52s 28ms/step - loss: 0.0049 - accuracy: 0.9992 - val_loss: 1.0821 - val_accuracy: 0.7378\n",
            "Epoch 34/100\n",
            "1875/1875 [==============================] - 49s 26ms/step - loss: 0.0064 - accuracy: 0.9985 - val_loss: 0.2040 - val_accuracy: 0.8395\n",
            "Epoch 35/100\n",
            "1875/1875 [==============================] - 48s 26ms/step - loss: 0.0047 - accuracy: 0.9992 - val_loss: 0.0328 - val_accuracy: 0.9972\n",
            "Epoch 36/100\n",
            "1875/1875 [==============================] - 52s 28ms/step - loss: 0.0050 - accuracy: 0.9991 - val_loss: 0.0318 - val_accuracy: 0.9972\n",
            "Epoch 37/100\n",
            "1875/1875 [==============================] - 49s 26ms/step - loss: 0.0041 - accuracy: 0.9994 - val_loss: 0.1313 - val_accuracy: 0.9410\n",
            "Epoch 38/100\n",
            "1875/1875 [==============================] - 49s 26ms/step - loss: 0.0043 - accuracy: 0.9993 - val_loss: 0.0467 - val_accuracy: 0.9898\n",
            "Epoch 39/100\n",
            "1875/1875 [==============================] - 54s 29ms/step - loss: 0.0040 - accuracy: 0.9993 - val_loss: 0.5484 - val_accuracy: 0.6723\n",
            "Epoch 40/100\n",
            "1875/1875 [==============================] - 49s 26ms/step - loss: 0.0055 - accuracy: 0.9990 - val_loss: 0.6071 - val_accuracy: 0.8355\n",
            "Epoch 41/100\n",
            "1875/1875 [==============================] - 49s 26ms/step - loss: 0.0043 - accuracy: 0.9993 - val_loss: 1.4378 - val_accuracy: 0.6677\n",
            "Epoch 42/100\n",
            "1875/1875 [==============================] - 49s 26ms/step - loss: 0.0035 - accuracy: 0.9994 - val_loss: 1.0162 - val_accuracy: 0.8273\n",
            "Epoch 43/100\n",
            "1875/1875 [==============================] - 51s 27ms/step - loss: 0.0029 - accuracy: 0.9996 - val_loss: 1.3069 - val_accuracy: 0.8358\n",
            "Epoch 44/100\n",
            "1875/1875 [==============================] - 48s 26ms/step - loss: 0.0052 - accuracy: 0.9989 - val_loss: 0.5824 - val_accuracy: 0.8108\n",
            "Epoch 45/100\n",
            "1875/1875 [==============================] - 52s 28ms/step - loss: 0.0054 - accuracy: 0.9989 - val_loss: 0.0518 - val_accuracy: 0.9913\n",
            "Epoch 46/100\n",
            "1875/1875 [==============================] - 51s 27ms/step - loss: 0.0035 - accuracy: 0.9995 - val_loss: 0.0608 - val_accuracy: 0.9890\n",
            "Epoch 47/100\n",
            "1875/1875 [==============================] - 51s 27ms/step - loss: 0.0025 - accuracy: 0.9996 - val_loss: 0.1468 - val_accuracy: 0.9107\n",
            "Epoch 48/100\n",
            "1875/1875 [==============================] - 49s 26ms/step - loss: 0.0046 - accuracy: 0.9991 - val_loss: 0.1271 - val_accuracy: 0.9695\n",
            "Epoch 49/100\n",
            "1875/1875 [==============================] - 49s 26ms/step - loss: 0.0031 - accuracy: 0.9995 - val_loss: 0.1326 - val_accuracy: 0.9250\n",
            "Epoch 50/100\n",
            "1875/1875 [==============================] - 52s 28ms/step - loss: 0.0038 - accuracy: 0.9994 - val_loss: 0.7813 - val_accuracy: 0.6853\n",
            "Epoch 51/100\n",
            "1875/1875 [==============================] - 49s 26ms/step - loss: 0.0029 - accuracy: 0.9995 - val_loss: 0.3913 - val_accuracy: 0.8218\n",
            "Epoch 52/100\n",
            "1875/1875 [==============================] - 49s 26ms/step - loss: 0.0030 - accuracy: 0.9995 - val_loss: 2.5484 - val_accuracy: 0.6478\n",
            "Epoch 53/100\n",
            "1875/1875 [==============================] - 49s 26ms/step - loss: 0.0042 - accuracy: 0.9993 - val_loss: 0.7639 - val_accuracy: 0.7278\n",
            "Epoch 54/100\n",
            "1875/1875 [==============================] - 51s 27ms/step - loss: 0.0031 - accuracy: 0.9996 - val_loss: 0.8062 - val_accuracy: 0.7823\n",
            "Epoch 55/100\n",
            "1875/1875 [==============================] - 49s 26ms/step - loss: 0.0027 - accuracy: 0.9996 - val_loss: 0.2889 - val_accuracy: 0.8475\n",
            "Epoch 56/100\n",
            "1875/1875 [==============================] - 51s 27ms/step - loss: 0.0033 - accuracy: 0.9995 - val_loss: 0.0285 - val_accuracy: 0.9948\n",
            "Epoch 57/100\n",
            "1875/1875 [==============================] - 53s 28ms/step - loss: 0.0094 - accuracy: 0.9994 - val_loss: 0.0328 - val_accuracy: 0.9970\n",
            "Epoch 58/100\n",
            "1875/1875 [==============================] - 48s 26ms/step - loss: 0.0043 - accuracy: 0.9993 - val_loss: 0.2693 - val_accuracy: 0.8948\n",
            "Epoch 59/100\n",
            "1875/1875 [==============================] - 49s 26ms/step - loss: 0.0025 - accuracy: 0.9996 - val_loss: 0.0509 - val_accuracy: 0.9853\n",
            "Epoch 60/100\n",
            "1875/1875 [==============================] - 48s 26ms/step - loss: 0.0028 - accuracy: 0.9996 - val_loss: 0.2632 - val_accuracy: 0.8393\n",
            "Epoch 61/100\n",
            "1875/1875 [==============================] - 54s 29ms/step - loss: 0.0027 - accuracy: 0.9997 - val_loss: 1.0933 - val_accuracy: 0.8227\n",
            "Epoch 62/100\n",
            "1875/1875 [==============================] - 49s 26ms/step - loss: 0.0038 - accuracy: 0.9995 - val_loss: 1.3484 - val_accuracy: 0.8022\n",
            "Epoch 63/100\n",
            "1875/1875 [==============================] - 50s 26ms/step - loss: 0.0027 - accuracy: 0.9996 - val_loss: 0.6627 - val_accuracy: 0.8372\n",
            "Epoch 64/100\n",
            "1875/1875 [==============================] - 51s 27ms/step - loss: 0.0033 - accuracy: 0.9995 - val_loss: 1.5715 - val_accuracy: 0.8052\n",
            "Epoch 65/100\n",
            "1875/1875 [==============================] - 51s 27ms/step - loss: 0.0028 - accuracy: 0.9996 - val_loss: 0.6428 - val_accuracy: 0.8575\n",
            "Epoch 66/100\n",
            "1875/1875 [==============================] - 49s 26ms/step - loss: 0.0033 - accuracy: 0.9995 - val_loss: 2.4275 - val_accuracy: 0.6348\n",
            "Epoch 67/100\n",
            "1875/1875 [==============================] - 52s 28ms/step - loss: 0.0032 - accuracy: 0.9995 - val_loss: 0.5743 - val_accuracy: 0.8640\n",
            "Epoch 68/100\n",
            "1875/1875 [==============================] - 49s 26ms/step - loss: 0.0036 - accuracy: 0.9994 - val_loss: 0.2263 - val_accuracy: 0.8937\n",
            "Epoch 69/100\n",
            "1875/1875 [==============================] - 49s 26ms/step - loss: 0.0026 - accuracy: 0.9996 - val_loss: 1.5708 - val_accuracy: 0.8270\n",
            "Epoch 70/100\n",
            "1875/1875 [==============================] - 52s 28ms/step - loss: 0.0031 - accuracy: 0.9996 - val_loss: 0.4313 - val_accuracy: 0.7722\n",
            "Epoch 71/100\n",
            "1875/1875 [==============================] - 52s 28ms/step - loss: 0.0042 - accuracy: 0.9994 - val_loss: 0.0155 - val_accuracy: 0.9958\n",
            "Epoch 72/100\n",
            "1875/1875 [==============================] - 54s 29ms/step - loss: 0.0026 - accuracy: 0.9996 - val_loss: 0.0603 - val_accuracy: 0.9782\n",
            "Epoch 73/100\n",
            "1875/1875 [==============================] - 49s 26ms/step - loss: 0.0025 - accuracy: 0.9996 - val_loss: 0.0073 - val_accuracy: 0.9987\n",
            "Epoch 74/100\n",
            "1875/1875 [==============================] - 49s 26ms/step - loss: 0.0028 - accuracy: 0.9995 - val_loss: 0.2359 - val_accuracy: 0.8980\n",
            "Epoch 75/100\n",
            "1875/1875 [==============================] - 49s 26ms/step - loss: 0.0045 - accuracy: 0.9995 - val_loss: 0.0143 - val_accuracy: 0.9978\n",
            "Epoch 76/100\n",
            "1875/1875 [==============================] - 53s 28ms/step - loss: 0.0036 - accuracy: 0.9995 - val_loss: 0.3223 - val_accuracy: 0.8350\n",
            "Epoch 77/100\n",
            "1875/1875 [==============================] - 49s 26ms/step - loss: 0.0028 - accuracy: 0.9996 - val_loss: 1.0057 - val_accuracy: 0.6860\n",
            "Epoch 78/100\n",
            "1875/1875 [==============================] - 52s 28ms/step - loss: 0.0030 - accuracy: 0.9996 - val_loss: 0.1406 - val_accuracy: 0.9638\n",
            "Epoch 79/100\n",
            "1875/1875 [==============================] - 51s 27ms/step - loss: 0.0023 - accuracy: 0.9997 - val_loss: 0.6104 - val_accuracy: 0.6920\n",
            "Epoch 80/100\n",
            "1875/1875 [==============================] - 50s 27ms/step - loss: 0.0028 - accuracy: 0.9996 - val_loss: 1.2059 - val_accuracy: 0.6712\n",
            "Epoch 81/100\n",
            "1875/1875 [==============================] - 52s 28ms/step - loss: 0.0025 - accuracy: 0.9996 - val_loss: 1.1546 - val_accuracy: 0.6817\n",
            "Epoch 82/100\n",
            "1875/1875 [==============================] - 49s 26ms/step - loss: 0.0041 - accuracy: 0.9995 - val_loss: 4.0184 - val_accuracy: 0.4122\n",
            "Epoch 83/100\n",
            "1875/1875 [==============================] - 51s 27ms/step - loss: 0.0023 - accuracy: 0.9996 - val_loss: 0.0922 - val_accuracy: 0.9753\n",
            "Epoch 84/100\n",
            "1875/1875 [==============================] - 51s 27ms/step - loss: 0.0024 - accuracy: 0.9996 - val_loss: 0.0292 - val_accuracy: 0.9933\n",
            "Epoch 85/100\n",
            "1875/1875 [==============================] - 49s 26ms/step - loss: 0.0022 - accuracy: 0.9997 - val_loss: 0.0724 - val_accuracy: 0.9905\n",
            "Epoch 86/100\n",
            "1875/1875 [==============================] - 52s 28ms/step - loss: 0.0043 - accuracy: 0.9995 - val_loss: 0.2952 - val_accuracy: 0.8460\n",
            "Epoch 87/100\n",
            "1875/1875 [==============================] - 50s 27ms/step - loss: 0.0026 - accuracy: 0.9996 - val_loss: 0.0809 - val_accuracy: 0.9900\n",
            "Epoch 88/100\n",
            "1875/1875 [==============================] - 50s 26ms/step - loss: 0.0025 - accuracy: 0.9997 - val_loss: 0.0739 - val_accuracy: 0.9610\n",
            "Epoch 89/100\n",
            "1875/1875 [==============================] - 50s 27ms/step - loss: 0.0024 - accuracy: 0.9997 - val_loss: 0.0369 - val_accuracy: 0.9942\n",
            "Epoch 90/100\n",
            "1875/1875 [==============================] - 52s 28ms/step - loss: 0.0032 - accuracy: 0.9995 - val_loss: 0.0846 - val_accuracy: 0.9583\n",
            "Epoch 91/100\n",
            "1875/1875 [==============================] - 52s 28ms/step - loss: 0.0024 - accuracy: 0.9996 - val_loss: 0.1045 - val_accuracy: 0.9662\n",
            "Epoch 92/100\n",
            "1875/1875 [==============================] - 49s 26ms/step - loss: 0.0024 - accuracy: 0.9997 - val_loss: 0.1003 - val_accuracy: 0.9575\n",
            "Epoch 93/100\n",
            "1875/1875 [==============================] - 51s 27ms/step - loss: 0.0028 - accuracy: 0.9996 - val_loss: 0.0236 - val_accuracy: 0.9930\n",
            "Epoch 94/100\n",
            "1875/1875 [==============================] - 50s 27ms/step - loss: 0.0026 - accuracy: 0.9996 - val_loss: 0.0415 - val_accuracy: 0.9920\n",
            "Epoch 95/100\n",
            "1875/1875 [==============================] - 53s 28ms/step - loss: 0.0034 - accuracy: 0.9996 - val_loss: 0.3009 - val_accuracy: 0.8818\n",
            "Epoch 96/100\n",
            "1875/1875 [==============================] - 50s 27ms/step - loss: 0.0027 - accuracy: 0.9996 - val_loss: 0.0660 - val_accuracy: 0.9892\n",
            "Epoch 97/100\n",
            "1875/1875 [==============================] - 52s 28ms/step - loss: 0.0025 - accuracy: 0.9996 - val_loss: 1.4104 - val_accuracy: 0.8018\n",
            "Epoch 98/100\n",
            "1875/1875 [==============================] - 50s 27ms/step - loss: 0.0023 - accuracy: 0.9997 - val_loss: 1.1110 - val_accuracy: 0.7895\n",
            "Epoch 99/100\n",
            "1875/1875 [==============================] - 51s 27ms/step - loss: 0.0035 - accuracy: 0.9995 - val_loss: 0.9375 - val_accuracy: 0.7577\n",
            "Epoch 100/100\n",
            "1875/1875 [==============================] - 54s 29ms/step - loss: 0.0023 - accuracy: 0.9997 - val_loss: 0.8555 - val_accuracy: 0.7195\n"
          ]
        }
      ],
      "source": [
        "logger = CSVLogger('logs.csv', append=True)\n",
        "his = model.fit(X_train, y_train, epochs=100, batch_size=32,\n",
        "          validation_data=(X_test, y_test), callbacks=[logger])\n",
        "\n"
      ]
    },
    {
      "cell_type": "markdown",
      "id": "477d070b",
      "metadata": {
        "papermill": {
          "duration": 13.600966,
          "end_time": "2022-12-18T10:53:36.572211",
          "exception": false,
          "start_time": "2022-12-18T10:53:22.971245",
          "status": "completed"
        },
        "tags": [],
        "id": "477d070b"
      },
      "source": [
        "## Visualization of Results (CNN)\n",
        "Let's make a graphical visualization of results obtained by applying CNN to our data."
      ]
    },
    {
      "cell_type": "code",
      "source": [
        "# check the model performance on test data\n",
        "scores = model.evaluate(X_test, y_test)\n",
        "print(\"%s: %.2f%%\" % (model.metrics_names[0], scores[0] * 100))"
      ],
      "metadata": {
        "id": "_GoeD2Z2jo6f"
      },
      "id": "_GoeD2Z2jo6f",
      "execution_count": null,
      "outputs": []
    },
    {
      "cell_type": "code",
      "source": [
        "import pandas as pd\n",
        "\n",
        "data = {\n",
        "    'timestamp': ['14/02/2018 08:31:01', '15/02/2018 09:45:22', '16/02/2018 10:15:00'],\n",
        "    'other_column': [1, 2, 3]\n",
        "}\n",
        "\n",
        "df = pd.DataFrame(data)\n",
        "df['timestamp'] = pd.to_datetime(df['timestamp'])\n",
        "df['timestamp_numeric'] = df['timestamp'].astype(int)\n",
        "df.drop(columns=['timestamp'], inplace=True)\n",
        "print(df)\n"
      ],
      "metadata": {
        "colab": {
          "base_uri": "https://localhost:8080/"
        },
        "id": "vvtx7Yzsg-pU",
        "outputId": "348798af-b5e1-468b-d15f-9e35b463579b"
      },
      "id": "vvtx7Yzsg-pU",
      "execution_count": null,
      "outputs": [
        {
          "output_type": "stream",
          "name": "stdout",
          "text": [
            "   other_column    timestamp_numeric\n",
            "0             1  1518597061000000000\n",
            "1             2  1518687922000000000\n",
            "2             3  1518776100000000000\n"
          ]
        }
      ]
    },
    {
      "cell_type": "code",
      "source": [
        "import numpy as np\n",
        "from sklearn.model_selection import train_test_split\n",
        "from keras.models import Sequential\n",
        "from keras.layers import Dense, Dropout\n",
        "from keras.optimizers import Adam\n",
        "\n",
        "\n",
        "X_train, X_test, y_train, y_test = train_test_split(X, y, test_size=0.2, random_state=42)\n",
        "\n",
        "model = Sequential()\n",
        "model.add(Dense(128, input_dim=X_train.shape[1], activation='relu'))\n",
        "model.add(Dropout(0.5))\n",
        "model.add(Dense(64, activation='relu'))\n",
        "model.add(Dense(32, activation='relu'))\n",
        "model.add(Dense(1, activation='sigmoid'))\n",
        "\n",
        "model.compile(loss='binary_crossentropy', optimizer=Adam(learning_rate=0.001), metrics=['accuracy'])\n",
        "\n",
        "history = model.fit(X_train, y_train, epochs=10, batch_size=32, validation_split=0.2, verbose=1)\n",
        "\n",
        "scores = model.evaluate(X_test, y_test, verbose=0)\n",
        "print(\"Test %s: %.2f%%\" % (model.metrics_names[0], scores[0] * 100))\n"
      ],
      "metadata": {
        "colab": {
          "base_uri": "https://localhost:8080/"
        },
        "id": "uzuIf9KZcWZ-",
        "outputId": "1f2963f8-fc48-415a-fa12-5d31668f1a7a"
      },
      "id": "uzuIf9KZcWZ-",
      "execution_count": null,
      "outputs": [
        {
          "output_type": "stream",
          "name": "stdout",
          "text": [
            "Epoch 1/10\n",
            "20926/20926 [==============================] - 80s 4ms/step - loss: nan - accuracy: 0.6359 - val_loss: nan - val_accuracy: 0.6352\n",
            "Epoch 2/10\n",
            "20926/20926 [==============================] - 99s 5ms/step - loss: nan - accuracy: 0.6359 - val_loss: nan - val_accuracy: 0.6352\n",
            "Epoch 3/10\n",
            "20926/20926 [==============================] - 89s 4ms/step - loss: nan - accuracy: 0.6359 - val_loss: nan - val_accuracy: 0.6352\n",
            "Epoch 4/10\n",
            "20926/20926 [==============================] - 78s 4ms/step - loss: nan - accuracy: 0.6359 - val_loss: nan - val_accuracy: 0.6352\n",
            "Epoch 5/10\n",
            "20926/20926 [==============================] - 83s 4ms/step - loss: nan - accuracy: 0.6359 - val_loss: nan - val_accuracy: 0.6352\n",
            "Epoch 6/10\n",
            "20926/20926 [==============================] - 77s 4ms/step - loss: nan - accuracy: 0.6359 - val_loss: nan - val_accuracy: 0.6352\n",
            "Epoch 7/10\n",
            "20926/20926 [==============================] - 79s 4ms/step - loss: nan - accuracy: 0.6359 - val_loss: nan - val_accuracy: 0.6352\n",
            "Epoch 8/10\n",
            "20926/20926 [==============================] - 84s 4ms/step - loss: nan - accuracy: 0.6359 - val_loss: nan - val_accuracy: 0.6352\n",
            "Epoch 9/10\n",
            "20926/20926 [==============================] - 77s 4ms/step - loss: nan - accuracy: 0.6359 - val_loss: nan - val_accuracy: 0.6352\n",
            "Epoch 10/10\n",
            "20926/20926 [==============================] - 77s 4ms/step - loss: nan - accuracy: 0.6359 - val_loss: nan - val_accuracy: 0.6352\n",
            "Test loss: nan%\n"
          ]
        }
      ]
    },
    {
      "cell_type": "code",
      "source": [
        "model.add(Dense(1, activation='sigmoid'))\n",
        "\n",
        "history = model.fit(X_train, y_train, epochs=10, batch_size=32, validation_split=0.8, verbose=1)\n",
        "y_pred = model.predict(X_test)\n",
        "y_pred_classes = (y_pred > 0.1).astype(int)\n",
        "\n",
        "accuracy = np.mean(y_pred_classes == y_test)\n",
        "accuracy_float = float(accuracy)\n",
        "print(\"Test Accuracy: {:.2f}%\".format(accuracy_float * 100))\n",
        "\n"
      ],
      "metadata": {
        "colab": {
          "base_uri": "https://localhost:8080/"
        },
        "id": "_JDzoa6omnTA",
        "outputId": "984157f7-844c-4c1f-a7ca-6b006d492f74"
      },
      "id": "_JDzoa6omnTA",
      "execution_count": null,
      "outputs": [
        {
          "output_type": "stream",
          "name": "stdout",
          "text": [
            "Epoch 1/10\n",
            "5232/5232 [==============================] - 60s 11ms/step - loss: nan - accuracy: 0.6344 - val_loss: nan - val_accuracy: 0.6361\n",
            "Epoch 2/10\n",
            "5232/5232 [==============================] - 63s 12ms/step - loss: nan - accuracy: 0.6344 - val_loss: nan - val_accuracy: 0.6361\n",
            "Epoch 3/10\n",
            "5232/5232 [==============================] - 49s 9ms/step - loss: nan - accuracy: 0.6344 - val_loss: nan - val_accuracy: 0.6361\n",
            "Epoch 4/10\n",
            "5232/5232 [==============================] - 61s 12ms/step - loss: nan - accuracy: 0.6344 - val_loss: nan - val_accuracy: 0.6361\n",
            "Epoch 5/10\n",
            "5232/5232 [==============================] - 51s 10ms/step - loss: nan - accuracy: 0.6344 - val_loss: nan - val_accuracy: 0.6361\n",
            "Epoch 6/10\n",
            "5232/5232 [==============================] - 50s 9ms/step - loss: nan - accuracy: 0.6344 - val_loss: nan - val_accuracy: 0.6361\n",
            "Epoch 7/10\n",
            "5232/5232 [==============================] - 64s 12ms/step - loss: nan - accuracy: 0.6344 - val_loss: nan - val_accuracy: 0.6361\n",
            "Epoch 8/10\n",
            "5232/5232 [==============================] - 59s 11ms/step - loss: nan - accuracy: 0.6344 - val_loss: nan - val_accuracy: 0.6361\n",
            "Epoch 9/10\n",
            "5232/5232 [==============================] - 50s 10ms/step - loss: nan - accuracy: 0.6344 - val_loss: nan - val_accuracy: 0.6361\n",
            "Epoch 10/10\n",
            "5232/5232 [==============================] - 63s 12ms/step - loss: nan - accuracy: 0.6344 - val_loss: nan - val_accuracy: 0.6361\n",
            "6540/6540 [==============================] - 12s 2ms/step\n",
            "Test Accuracy: 63.67%\n"
          ]
        },
        {
          "output_type": "stream",
          "name": "stderr",
          "text": [
            "/usr/local/lib/python3.10/dist-packages/numpy/core/fromnumeric.py:3430: FutureWarning:\n",
            "\n",
            "In a future version, DataFrame.mean(axis=None) will return a scalar mean over the entire DataFrame. To retain the old behavior, use 'frame.mean(axis=0)' or just 'frame.mean()'\n",
            "\n"
          ]
        }
      ]
    },
    {
      "cell_type": "code",
      "source": [
        "# check the model performance on test data\n",
        "scores = model.evaluate(X_test, y_test)\n",
        "print(\"%s: %.2f%%\" % (model.metrics_names[0], scores[0] * 100))"
      ],
      "metadata": {
        "id": "qDozxEuceI7r"
      },
      "id": "qDozxEuceI7r",
      "execution_count": null,
      "outputs": []
    },
    {
      "cell_type": "code",
      "execution_count": null,
      "id": "8e8c8baa",
      "metadata": {
        "execution": {
          "iopub.execute_input": "2022-12-18T10:54:31.851771Z",
          "iopub.status.busy": "2022-12-18T10:54:31.850748Z",
          "iopub.status.idle": "2022-12-18T10:54:31.854161Z",
          "shell.execute_reply": "2022-12-18T10:54:31.854791Z",
          "shell.execute_reply.started": "2022-12-18T10:05:30.880229Z"
        },
        "papermill": {
          "duration": 13.580637,
          "end_time": "2022-12-18T10:54:31.854966",
          "exception": false,
          "start_time": "2022-12-18T10:54:18.274329",
          "status": "completed"
        },
        "tags": [],
        "id": "8e8c8baa",
        "outputId": "3564d2c8-2380-46fe-e920-c0bc4df37872",
        "colab": {
          "base_uri": "https://localhost:8080/"
        }
      },
      "outputs": [
        {
          "output_type": "execute_result",
          "data": {
            "text/plain": [
              "dict_keys(['loss', 'accuracy', 'val_loss', 'val_accuracy'])"
            ]
          },
          "metadata": {},
          "execution_count": 109
        }
      ],
      "source": [
        "# check history of model\n",
        "history = his.history\n",
        "history.keys()"
      ]
    },
    {
      "cell_type": "code",
      "execution_count": null,
      "id": "292bf74b",
      "metadata": {
        "execution": {
          "iopub.execute_input": "2022-12-18T10:54:59.051656Z",
          "iopub.status.busy": "2022-12-18T10:54:59.050631Z",
          "iopub.status.idle": "2022-12-18T10:54:59.697200Z",
          "shell.execute_reply": "2022-12-18T10:54:59.697680Z",
          "shell.execute_reply.started": "2022-12-18T10:05:30.888327Z"
        },
        "papermill": {
          "duration": 14.255956,
          "end_time": "2022-12-18T10:54:59.697860",
          "exception": false,
          "start_time": "2022-12-18T10:54:45.441904",
          "status": "completed"
        },
        "tags": [],
        "id": "292bf74b",
        "outputId": "c7abb482-b848-41e1-f3f2-f40984b91885",
        "colab": {
          "base_uri": "https://localhost:8080/",
          "height": 992
        }
      },
      "outputs": [
        {
          "output_type": "execute_result",
          "data": {
            "text/plain": [
              "<matplotlib.legend.Legend at 0x7b43a34f8340>"
            ]
          },
          "metadata": {},
          "execution_count": 110
        },
        {
          "output_type": "display_data",
          "data": {
            "text/plain": [
              "<Figure size 1000x500 with 1 Axes>"
            ],
            "image/png": "[encoded data removed]"
          },
          "metadata": {}
        },
        {
          "output_type": "display_data",
          "data": {
            "text/plain": [
              "<Figure size 1000x500 with 1 Axes>"
            ],
            "image/png": "[encoded data removed]"
          },
          "metadata": {}
        }
      ],
      "source": [
        "epochs = range(1, len(history['loss']) + 1)\n",
        "acc = history['accuracy']\n",
        "loss = history['loss']\n",
        "val_acc = history['val_accuracy']\n",
        "val_loss = history['val_loss']\n",
        "\n",
        "# visualize training and val accuracy\n",
        "plt.figure(figsize=(10, 5))\n",
        "plt.title('Training and Validation Accuracy (CNN)')\n",
        "plt.xlabel('Epochs')\n",
        "plt.ylabel('Accuracy')\n",
        "plt.plot(epochs, acc, label='accuracy')\n",
        "plt.plot(epochs, val_acc, label='val_acc')\n",
        "plt.legend()\n",
        "\n",
        "# visualize train and val loss\n",
        "plt.figure(figsize=(10, 5))\n",
        "plt.title('Training and Validation Loss(CNN)')\n",
        "plt.xlabel('Epochs')\n",
        "plt.ylabel('Loss')\n",
        "plt.plot(epochs, loss, label='loss', color='g')\n",
        "plt.plot(epochs, val_loss, label='val_loss', color='r')\n",
        "plt.legend()"
      ]
    },
    {
      "cell_type": "code",
      "source": [
        "print(network_data.describe())\n"
      ],
      "metadata": {
        "colab": {
          "base_uri": "https://localhost:8080/"
        },
        "id": "iwf7AH0JyPfe",
        "outputId": "1a51db87-363f-4cbd-f605-6db07383916f"
      },
      "id": "iwf7AH0JyPfe",
      "execution_count": null,
      "outputs": [
        {
          "output_type": "stream",
          "name": "stdout",
          "text": [
            "           Dst Port      Protocol  Flow Duration  Tot Fwd Pkts  Tot Bwd Pkts  \\\n",
            "count  1.048575e+06  1.048575e+06   1.048575e+06  1.048575e+06  1.048575e+06   \n",
            "mean   4.876262e+03  8.107557e+00   6.255555e+06  6.206622e+00  7.211191e+00   \n",
            "std    1.444344e+04  4.460625e+00   1.260291e+09  4.447851e+01  1.048682e+02   \n",
            "min    0.000000e+00  0.000000e+00  -9.190110e+11  1.000000e+00  0.000000e+00   \n",
            "25%    2.200000e+01  6.000000e+00   7.000000e+00  1.000000e+00  1.000000e+00   \n",
            "50%    5.300000e+01  6.000000e+00   1.023000e+03  2.000000e+00  1.000000e+00   \n",
            "75%    4.430000e+02  6.000000e+00   4.066690e+05  7.000000e+00  6.000000e+00   \n",
            "max    6.553300e+04  1.700000e+01   1.200000e+08  5.115000e+03  9.198000e+03   \n",
            "\n",
            "       TotLen Fwd Pkts  TotLen Bwd Pkts  Fwd Pkt Len Max  Fwd Pkt Len Min  \\\n",
            "count     1.048575e+06     1.048575e+06     1.048575e+06     1.048575e+06   \n",
            "mean      4.479936e+02     4.521803e+03     1.745736e+02     8.389535e+00   \n",
            "std       1.573541e+04     1.515021e+05     2.876713e+02     1.948279e+01   \n",
            "min       0.000000e+00     0.000000e+00     0.000000e+00     0.000000e+00   \n",
            "25%       0.000000e+00     0.000000e+00     0.000000e+00     0.000000e+00   \n",
            "50%       3.600000e+01     5.500000e+01     3.400000e+01     0.000000e+00   \n",
            "75%       4.550000e+02     7.680000e+02     1.990000e+02     0.000000e+00   \n",
            "max       8.591554e+06     1.339773e+07     6.444000e+04     1.460000e+03   \n",
            "\n",
            "       Fwd Pkt Len Mean  ...  Fwd Act Data Pkts  Fwd Seg Size Min  \\\n",
            "count      1.048575e+06  ...       1.048575e+06      1.048575e+06   \n",
            "mean       3.879579e+01  ...       2.793536e+00      2.327970e+01   \n",
            "std        5.331882e+01  ...       5.557106e+00      1.106185e+01   \n",
            "min        0.000000e+00  ...       0.000000e+00      0.000000e+00   \n",
            "25%        0.000000e+00  ...       0.000000e+00      2.000000e+01   \n",
            "50%        2.566667e+01  ...       0.000000e+00      2.000000e+01   \n",
            "75%        5.550000e+01  ...       4.000000e+00      3.200000e+01   \n",
            "max        1.121703e+04  ...       1.031000e+03      4.800000e+01   \n",
            "\n",
            "        Active Mean    Active Std    Active Max    Active Min     Idle Mean  \\\n",
            "count  1.048575e+06  1.048575e+06  1.048575e+06  1.048575e+06  1.048575e+06   \n",
            "mean   5.152449e+04  2.136151e+04  8.789157e+04  3.995477e+04  3.101206e+06   \n",
            "std    5.815586e+05  2.186405e+05  7.395725e+05  5.602693e+05  5.414780e+08   \n",
            "min    0.000000e+00  0.000000e+00  0.000000e+00  0.000000e+00  0.000000e+00   \n",
            "25%    0.000000e+00  0.000000e+00  0.000000e+00  0.000000e+00  0.000000e+00   \n",
            "50%    0.000000e+00  0.000000e+00  0.000000e+00  0.000000e+00  0.000000e+00   \n",
            "75%    0.000000e+00  0.000000e+00  0.000000e+00  0.000000e+00  0.000000e+00   \n",
            "max    1.102401e+08  5.723446e+07  1.102401e+08  1.102401e+08  3.394503e+11   \n",
            "\n",
            "           Idle Std      Idle Max      Idle Min  \n",
            "count  1.048575e+06  1.048575e+06  1.048575e+06  \n",
            "mean   7.297218e+05  4.812391e+06  2.126920e+06  \n",
            "std    3.820031e+08  1.522117e+09  1.817013e+07  \n",
            "min    0.000000e+00  0.000000e+00  0.000000e+00  \n",
            "25%    0.000000e+00  0.000000e+00  0.000000e+00  \n",
            "50%    0.000000e+00  0.000000e+00  0.000000e+00  \n",
            "75%    0.000000e+00  0.000000e+00  0.000000e+00  \n",
            "max    2.432682e+11  9.797810e+11  1.260300e+10  \n",
            "\n",
            "[8 rows x 78 columns]\n"
          ]
        }
      ]
    },
    {
      "cell_type": "code",
      "source": [
        "print(np.any(np.isinf(X_train)))\n",
        "print(np.any(np.isnan(X_train)))"
      ],
      "metadata": {
        "colab": {
          "base_uri": "https://localhost:8080/"
        },
        "id": "dqxECjO5ySKI",
        "outputId": "56db89f6-2d31-40d9-a3f1-7e2326188d49"
      },
      "id": "dqxECjO5ySKI",
      "execution_count": null,
      "outputs": [
        {
          "output_type": "stream",
          "name": "stdout",
          "text": [
            "True\n",
            "False\n"
          ]
        }
      ]
    },
    {
      "cell_type": "code",
      "source": [
        "predictions = model.predict(X_test)"
      ],
      "metadata": {
        "colab": {
          "base_uri": "https://localhost:8080/"
        },
        "id": "CGJJ-MlOfXJ6",
        "outputId": "34011e97-e823-406f-eb5d-a5dfb896ebd4"
      },
      "id": "CGJJ-MlOfXJ6",
      "execution_count": null,
      "outputs": [
        {
          "output_type": "stream",
          "name": "stdout",
          "text": [
            "6540/6540 [==============================] - 14s 2ms/step\n"
          ]
        }
      ]
    },
    {
      "cell_type": "code",
      "source": [
        "import pandas as pd\n",
        "data = pd.read_csv('/content/drive/MyDrive/CSE-CIC-IDS2018/02-14-2018.csv')\n",
        "print(data)\n"
      ],
      "metadata": {
        "colab": {
          "base_uri": "https://localhost:8080/"
        },
        "id": "NUFDK2zw5OnR",
        "outputId": "5c5c5f72-7a01-4eef-eb35-e6ccb0198611"
      },
      "id": "NUFDK2zw5OnR",
      "execution_count": null,
      "outputs": [
        {
          "output_type": "stream",
          "name": "stdout",
          "text": [
            "         Dst Port  Protocol            Timestamp  Flow Duration  Tot Fwd Pkts  \\\n",
            "0               0         0  14/02/2018 08:31:01      112641719             3   \n",
            "1               0         0  14/02/2018 08:33:50      112641466             3   \n",
            "2               0         0  14/02/2018 08:36:39      112638623             3   \n",
            "3              22         6  14/02/2018 08:40:13        6453966            15   \n",
            "4              22         6  14/02/2018 08:40:23        8804066            14   \n",
            "...           ...       ...                  ...            ...           ...   \n",
            "1048570        80         6  14/02/2018 10:53:23       10156986             5   \n",
            "1048571        80         6  14/02/2018 10:53:33            117             2   \n",
            "1048572        80         6  14/02/2018 10:53:28        5095331             3   \n",
            "1048573        80         6  14/02/2018 10:53:28        5235511             3   \n",
            "1048574       443         6  14/02/2018 10:53:28        5807256             6   \n",
            "\n",
            "         Tot Bwd Pkts  TotLen Fwd Pkts  TotLen Bwd Pkts  Fwd Pkt Len Max  \\\n",
            "0                   0                0                0                0   \n",
            "1                   0                0                0                0   \n",
            "2                   0                0                0                0   \n",
            "3                  10             1239             2273              744   \n",
            "4                  11             1143             2209              744   \n",
            "...               ...              ...              ...              ...   \n",
            "1048570             5             1089             1923              587   \n",
            "1048571             0                0                0                0   \n",
            "1048572             1                0                0                0   \n",
            "1048573             1                0                0                0   \n",
            "1048574             4              327              145              245   \n",
            "\n",
            "         Fwd Pkt Len Min  ...  Fwd Seg Size Min  Active Mean  Active Std  \\\n",
            "0                      0  ...                 0          0.0         0.0   \n",
            "1                      0  ...                 0          0.0         0.0   \n",
            "2                      0  ...                 0          0.0         0.0   \n",
            "3                      0  ...                32          0.0         0.0   \n",
            "4                      0  ...                32          0.0         0.0   \n",
            "...                  ...  ...               ...          ...         ...   \n",
            "1048570                0  ...                20          0.0         0.0   \n",
            "1048571                0  ...                20          0.0         0.0   \n",
            "1048572                0  ...                20          0.0         0.0   \n",
            "1048573                0  ...                20          0.0         0.0   \n",
            "1048574                0  ...                20     291569.0         0.0   \n",
            "\n",
            "         Active Max  Active Min   Idle Mean    Idle Std  Idle Max  Idle Min  \\\n",
            "0                 0           0  56320859.5  139.300036  56320958  56320761   \n",
            "1                 0           0  56320733.0  114.551299  56320814  56320652   \n",
            "2                 0           0  56319311.5  301.934596  56319525  56319098   \n",
            "3                 0           0         0.0    0.000000         0         0   \n",
            "4                 0           0         0.0    0.000000         0         0   \n",
            "...             ...         ...         ...         ...       ...       ...   \n",
            "1048570           0           0         0.0    0.000000         0         0   \n",
            "1048571           0           0         0.0    0.000000         0         0   \n",
            "1048572           0           0         0.0    0.000000         0         0   \n",
            "1048573           0           0         0.0    0.000000         0         0   \n",
            "1048574      291569      291569   5515650.0    0.000000   5515650   5515650   \n",
            "\n",
            "          Label  \n",
            "0        Benign  \n",
            "1        Benign  \n",
            "2        Benign  \n",
            "3        Benign  \n",
            "4        Benign  \n",
            "...         ...  \n",
            "1048570  Benign  \n",
            "1048571  Benign  \n",
            "1048572  Benign  \n",
            "1048573  Benign  \n",
            "1048574  Benign  \n",
            "\n",
            "[1048575 rows x 80 columns]\n"
          ]
        }
      ]
    },
    {
      "cell_type": "code",
      "source": [
        "import pandas as pd\n",
        "import numpy as np\n",
        "from sklearn.metrics import confusion_matrix\n",
        "from tabulate import tabulate\n",
        "\n",
        "data = pd.read_csv('/content/drive/MyDrive/CSE-CIC-IDS2018/02-14-2018.csv')\n",
        "\n",
        "true_labels = data['Label']\n",
        "predicted_labels = data['Label']\n",
        "conf_matrix = confusion_matrix(true_labels, predicted_labels, labels=data['Label'].unique())\n",
        "\n",
        "accuracy = np.trace(conf_matrix) / np.sum(conf_matrix)\n",
        "\n",
        "class_labels = data['Label'].unique()\n",
        "print(\"Confusion Matrix:\")\n",
        "print(tabulate(conf_matrix, headers=class_labels, showindex=class_labels, tablefmt='grid'))\n",
        "print(f\"Accuracy: {accuracy:.2f}\")\n"
      ],
      "metadata": {
        "id": "cLnpVds80hmR"
      },
      "id": "cLnpVds80hmR",
      "execution_count": null,
      "outputs": []
    },
    {
      "cell_type": "code",
      "source": [
        "import pandas as pd\n",
        "import numpy as np\n",
        "from sklearn.metrics import confusion_matrix\n",
        "from tabulate import tabulate\n",
        "\n",
        "data = pd.read_csv('/content/drive/MyDrive/CSE-CIC-IDS2018/02-14-2018.csv')\n",
        "\n",
        "true_labels = data['Label']\n",
        "predicted_labels = data['Label']\n",
        "conf_matrix = confusion_matrix(true_labels, predicted_labels, labels=data['Label'].unique())\n",
        "\n",
        "accuracy = np.trace(conf_matrix) / np.sum(conf_matrix)\n",
        "\n",
        "class_labels = data['Label'].unique().tolist()  # Convert NumPy array to list\n",
        "print(\"Confusion Matrix:\")\n",
        "print(tabulate(conf_matrix, headers=class_labels, showindex=class_labels, tablefmt='grid'))\n",
        "print(f\"Accuracy: {accuracy:.2f}\")\n"
      ],
      "metadata": {
        "colab": {
          "base_uri": "https://localhost:8080/"
        },
        "id": "8Tw2ahAuBPrY",
        "outputId": "6911008b-1db8-492d-c72b-b59fd9a60b56"
      },
      "id": "8Tw2ahAuBPrY",
      "execution_count": 5,
      "outputs": [
        {
          "output_type": "stream",
          "name": "stdout",
          "text": [
            "Confusion Matrix:\n",
            "+----------------+----------+------------------+------------------+\n",
            "|                |   Benign |   FTP-BruteForce |   SSH-Bruteforce |\n",
            "+================+==========+==================+==================+\n",
            "| Benign         |   667626 |                0 |                0 |\n",
            "+----------------+----------+------------------+------------------+\n",
            "| FTP-BruteForce |        0 |           193360 |                0 |\n",
            "+----------------+----------+------------------+------------------+\n",
            "| SSH-Bruteforce |        0 |                0 |           187589 |\n",
            "+----------------+----------+------------------+------------------+\n",
            "Accuracy: 1.00\n"
          ]
        }
      ]
    }
  ],
  "metadata": {
    "kernelspec": {
      "display_name": "Python 3",
      "language": "python",
      "name": "python3"
    },
    "language_info": {
      "codemirror_mode": {
        "name": "ipython",
        "version": 3
      },
      "file_extension": ".py",
      "mimetype": "text/x-python",
      "name": "python",
      "nbconvert_exporter": "python",
      "pygments_lexer": "ipython3",
      "version": "3.7.12"
    },
    "papermill": {
      "default_parameters": {},
      "duration": 2840.573987,
      "end_time": "2022-12-18T10:55:43.400653",
      "environment_variables": {},
      "exception": null,
      "input_path": "__notebook__.ipynb",
      "output_path": "__notebook__.ipynb",
      "parameters": {},
      "start_time": "2022-12-18T10:08:22.826666",
      "version": "2.3.3"
    },
    "colab": {
      "provenance": [],
      "include_colab_link": true
    }
  },
  "nbformat": 4,
  "nbformat_minor": 5
}